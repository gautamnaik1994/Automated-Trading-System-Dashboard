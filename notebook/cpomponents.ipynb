{
 "cells": [
  {
   "cell_type": "code",
   "execution_count": 5,
   "metadata": {},
   "outputs": [],
   "source": [
    "import pandas as pd\n",
    "import numpy as np\n",
    "import plotly.express as px\n",
    "import plotly.graph_objects as go\n",
    "from plotly.subplots import make_subplots\n",
    "from xata.client import XataClient\n",
    "import duckdb as db\n",
    "from datetime import datetime"
   ]
  },
  {
   "cell_type": "code",
   "execution_count": 4,
   "metadata": {},
   "outputs": [
    {
     "data": {
      "text/plain": [
       "str"
      ]
     },
     "execution_count": 4,
     "metadata": {},
     "output_type": "execute_result"
    }
   ],
   "source": [
    "type(datetime.now().strftime(\"%Y-%m-%d\"))"
   ]
  },
  {
   "cell_type": "code",
   "execution_count": 5,
   "metadata": {},
   "outputs": [],
   "source": [
    "xata = XataClient(\n",
    "   db_url=\"https://gautam-naik-s-workspace-sv2qks.ap-southeast-2.xata.sh/db/gmmm\"\n",
    ")\n"
   ]
  },
  {
   "cell_type": "code",
   "execution_count": 6,
   "metadata": {},
   "outputs": [],
   "source": [
    "def load_data():\n",
    "    trades = []\n",
    "\n",
    "    records = xata.data().query(\"trades_v1\", {\n",
    "        \"page\": {\n",
    "            \"size\": 1000\n",
    "        }\n",
    "    })\n",
    "\n",
    "    trades.extend(records[\"records\"])\n",
    "\n",
    "    while records.has_more_results():\n",
    "        records = xata.data().query(\"trades_v1\", {\n",
    "            \"page\": {\n",
    "                \"after\": records.get_cursor(),\n",
    "                \"size\": 1000\n",
    "            }\n",
    "        })\n",
    "        trades.extend(records[\"records\"])\n",
    "\n",
    "    df = pd.DataFrame(trades)\n",
    "    df = df.drop([\"xata\", \"id\"], axis=1)\n",
    "    return df\n",
    "\n",
    "\n",
    "trades = []\n",
    "\n",
    "records = xata.data().query(\"trades_v1\", {\n",
    "    \"page\": {\n",
    "        \"size\": 1000\n",
    "    }\n",
    "})\n",
    "\n",
    "trades.extend(records[\"records\"])\n",
    "\n",
    "while records.has_more_results():\n",
    "    records = xata.data().query(\"trades_v1\", {\n",
    "        \"page\": {\n",
    "            \"after\": records.get_cursor(),\n",
    "            \"size\": 1000\n",
    "        }\n",
    "    })\n",
    "    trades.extend(records[\"records\"])\n",
    "\n",
    "df = pd.DataFrame(trades)\n",
    "df = df.drop([\"xata\", \"id\"], axis=1)\n"
   ]
  },
  {
   "cell_type": "code",
   "execution_count": 4,
   "metadata": {},
   "outputs": [
    {
     "data": {
      "text/plain": [
       "{'id': 'e57aa64d-d43a-9650-9fc8-ab496f8e3a89',\n",
       " 'message': 'database branch [None:main] not found'}"
      ]
     },
     "execution_count": 4,
     "metadata": {},
     "output_type": "execute_result"
    }
   ],
   "source": [
    "records"
   ]
  },
  {
   "cell_type": "code",
   "execution_count": 7,
   "metadata": {},
   "outputs": [
    {
     "data": {
      "text/html": [
       "<div>\n",
       "<style scoped>\n",
       "    .dataframe tbody tr th:only-of-type {\n",
       "        vertical-align: middle;\n",
       "    }\n",
       "\n",
       "    .dataframe tbody tr th {\n",
       "        vertical-align: top;\n",
       "    }\n",
       "\n",
       "    .dataframe thead th {\n",
       "        text-align: right;\n",
       "    }\n",
       "</style>\n",
       "<table border=\"1\" class=\"dataframe\">\n",
       "  <thead>\n",
       "    <tr style=\"text-align: right;\">\n",
       "      <th></th>\n",
       "      <th>brokerage</th>\n",
       "      <th>buy_time</th>\n",
       "      <th>buy_value</th>\n",
       "      <th>date</th>\n",
       "      <th>net_pnl</th>\n",
       "      <th>pnl</th>\n",
       "      <th>sell_time</th>\n",
       "      <th>sell_value</th>\n",
       "      <th>strategy</th>\n",
       "      <th>symbol</th>\n",
       "      <th>tax</th>\n",
       "      <th>traded_qty</th>\n",
       "    </tr>\n",
       "  </thead>\n",
       "  <tbody>\n",
       "    <tr>\n",
       "      <th>0</th>\n",
       "      <td>0.0</td>\n",
       "      <td>09:15:46</td>\n",
       "      <td>4179.95</td>\n",
       "      <td>2024-01-10T00:00:00Z</td>\n",
       "      <td>3.13</td>\n",
       "      <td>4.65</td>\n",
       "      <td>15:10:23</td>\n",
       "      <td>4184.60</td>\n",
       "      <td>MEAN_REVERSION</td>\n",
       "      <td>SIEMENS</td>\n",
       "      <td>1.52</td>\n",
       "      <td>1</td>\n",
       "    </tr>\n",
       "    <tr>\n",
       "      <th>1</th>\n",
       "      <td>0.0</td>\n",
       "      <td>09:15:49</td>\n",
       "      <td>4946.40</td>\n",
       "      <td>2024-01-10T00:00:00Z</td>\n",
       "      <td>-118.76</td>\n",
       "      <td>-117.00</td>\n",
       "      <td>12:06:07</td>\n",
       "      <td>4829.40</td>\n",
       "      <td>SWING_STOCHASTIC_RSI</td>\n",
       "      <td>GRANULES</td>\n",
       "      <td>1.76</td>\n",
       "      <td>12</td>\n",
       "    </tr>\n",
       "    <tr>\n",
       "      <th>2</th>\n",
       "      <td>0.0</td>\n",
       "      <td>09:15:27</td>\n",
       "      <td>4979.70</td>\n",
       "      <td>2024-01-11T00:00:00Z</td>\n",
       "      <td>16.88</td>\n",
       "      <td>18.70</td>\n",
       "      <td>15:10:24</td>\n",
       "      <td>4998.40</td>\n",
       "      <td>SWING_STOCHASTIC_RSI</td>\n",
       "      <td>CANBK</td>\n",
       "      <td>1.82</td>\n",
       "      <td>11</td>\n",
       "    </tr>\n",
       "    <tr>\n",
       "      <th>3</th>\n",
       "      <td>0.0</td>\n",
       "      <td>09:37:14</td>\n",
       "      <td>4617.60</td>\n",
       "      <td>2024-01-11T00:00:00Z</td>\n",
       "      <td>-45.77</td>\n",
       "      <td>-44.10</td>\n",
       "      <td>15:10:24</td>\n",
       "      <td>4573.50</td>\n",
       "      <td>SWING_STOCHASTIC_RSI</td>\n",
       "      <td>SBICARD</td>\n",
       "      <td>1.67</td>\n",
       "      <td>6</td>\n",
       "    </tr>\n",
       "    <tr>\n",
       "      <th>4</th>\n",
       "      <td>0.0</td>\n",
       "      <td>09:15:55</td>\n",
       "      <td>4960.80</td>\n",
       "      <td>2024-01-11T00:00:00Z</td>\n",
       "      <td>-27.80</td>\n",
       "      <td>-26.00</td>\n",
       "      <td>15:10:24</td>\n",
       "      <td>4934.80</td>\n",
       "      <td>SWING_STOCHASTIC_RSI</td>\n",
       "      <td>PNB</td>\n",
       "      <td>1.80</td>\n",
       "      <td>52</td>\n",
       "    </tr>\n",
       "    <tr>\n",
       "      <th>...</th>\n",
       "      <td>...</td>\n",
       "      <td>...</td>\n",
       "      <td>...</td>\n",
       "      <td>...</td>\n",
       "      <td>...</td>\n",
       "      <td>...</td>\n",
       "      <td>...</td>\n",
       "      <td>...</td>\n",
       "      <td>...</td>\n",
       "      <td>...</td>\n",
       "      <td>...</td>\n",
       "      <td>...</td>\n",
       "    </tr>\n",
       "    <tr>\n",
       "      <th>2490</th>\n",
       "      <td>0.0</td>\n",
       "      <td>10:45:40</td>\n",
       "      <td>6748.50</td>\n",
       "      <td>2024-04-18T00:00:00Z</td>\n",
       "      <td>60.23</td>\n",
       "      <td>62.70</td>\n",
       "      <td>10:15:19</td>\n",
       "      <td>6811.20</td>\n",
       "      <td>INTRADAY_GAP_UP</td>\n",
       "      <td>HDFCLIFE</td>\n",
       "      <td>2.47</td>\n",
       "      <td>11</td>\n",
       "    </tr>\n",
       "    <tr>\n",
       "      <th>2491</th>\n",
       "      <td>0.0</td>\n",
       "      <td>09:15:47</td>\n",
       "      <td>4760.00</td>\n",
       "      <td>2024-04-19T00:00:00Z</td>\n",
       "      <td>164.82</td>\n",
       "      <td>166.60</td>\n",
       "      <td>15:10:23</td>\n",
       "      <td>4926.60</td>\n",
       "      <td>MEAN_REVERSION</td>\n",
       "      <td>INDUSTOWER</td>\n",
       "      <td>1.78</td>\n",
       "      <td>14</td>\n",
       "    </tr>\n",
       "    <tr>\n",
       "      <th>2492</th>\n",
       "      <td>0.0</td>\n",
       "      <td>09:15:48</td>\n",
       "      <td>3794.10</td>\n",
       "      <td>2024-04-19T00:00:00Z</td>\n",
       "      <td>80.05</td>\n",
       "      <td>81.45</td>\n",
       "      <td>15:10:23</td>\n",
       "      <td>3875.55</td>\n",
       "      <td>MEAN_REVERSION</td>\n",
       "      <td>BHARTIARTL</td>\n",
       "      <td>1.40</td>\n",
       "      <td>3</td>\n",
       "    </tr>\n",
       "    <tr>\n",
       "      <th>2493</th>\n",
       "      <td>0.0</td>\n",
       "      <td>09:15:46</td>\n",
       "      <td>3383.90</td>\n",
       "      <td>2024-04-19T00:00:00Z</td>\n",
       "      <td>-5.33</td>\n",
       "      <td>-4.10</td>\n",
       "      <td>15:10:23</td>\n",
       "      <td>3379.80</td>\n",
       "      <td>MEAN_REVERSION</td>\n",
       "      <td>ICICIGI</td>\n",
       "      <td>1.23</td>\n",
       "      <td>2</td>\n",
       "    </tr>\n",
       "    <tr>\n",
       "      <th>2494</th>\n",
       "      <td>0.0</td>\n",
       "      <td>09:15:48</td>\n",
       "      <td>3842.25</td>\n",
       "      <td>2024-04-19T00:00:00Z</td>\n",
       "      <td>-52.68</td>\n",
       "      <td>-51.30</td>\n",
       "      <td>15:10:23</td>\n",
       "      <td>3790.95</td>\n",
       "      <td>MEAN_REVERSION</td>\n",
       "      <td>MCX</td>\n",
       "      <td>1.38</td>\n",
       "      <td>1</td>\n",
       "    </tr>\n",
       "  </tbody>\n",
       "</table>\n",
       "<p>2495 rows × 12 columns</p>\n",
       "</div>"
      ],
      "text/plain": [
       "      brokerage  buy_time  buy_value                  date  net_pnl     pnl  \\\n",
       "0           0.0  09:15:46    4179.95  2024-01-10T00:00:00Z     3.13    4.65   \n",
       "1           0.0  09:15:49    4946.40  2024-01-10T00:00:00Z  -118.76 -117.00   \n",
       "2           0.0  09:15:27    4979.70  2024-01-11T00:00:00Z    16.88   18.70   \n",
       "3           0.0  09:37:14    4617.60  2024-01-11T00:00:00Z   -45.77  -44.10   \n",
       "4           0.0  09:15:55    4960.80  2024-01-11T00:00:00Z   -27.80  -26.00   \n",
       "...         ...       ...        ...                   ...      ...     ...   \n",
       "2490        0.0  10:45:40    6748.50  2024-04-18T00:00:00Z    60.23   62.70   \n",
       "2491        0.0  09:15:47    4760.00  2024-04-19T00:00:00Z   164.82  166.60   \n",
       "2492        0.0  09:15:48    3794.10  2024-04-19T00:00:00Z    80.05   81.45   \n",
       "2493        0.0  09:15:46    3383.90  2024-04-19T00:00:00Z    -5.33   -4.10   \n",
       "2494        0.0  09:15:48    3842.25  2024-04-19T00:00:00Z   -52.68  -51.30   \n",
       "\n",
       "     sell_time  sell_value              strategy      symbol   tax  traded_qty  \n",
       "0     15:10:23     4184.60        MEAN_REVERSION     SIEMENS  1.52           1  \n",
       "1     12:06:07     4829.40  SWING_STOCHASTIC_RSI    GRANULES  1.76          12  \n",
       "2     15:10:24     4998.40  SWING_STOCHASTIC_RSI       CANBK  1.82          11  \n",
       "3     15:10:24     4573.50  SWING_STOCHASTIC_RSI     SBICARD  1.67           6  \n",
       "4     15:10:24     4934.80  SWING_STOCHASTIC_RSI         PNB  1.80          52  \n",
       "...        ...         ...                   ...         ...   ...         ...  \n",
       "2490  10:15:19     6811.20       INTRADAY_GAP_UP    HDFCLIFE  2.47          11  \n",
       "2491  15:10:23     4926.60        MEAN_REVERSION  INDUSTOWER  1.78          14  \n",
       "2492  15:10:23     3875.55        MEAN_REVERSION  BHARTIARTL  1.40           3  \n",
       "2493  15:10:23     3379.80        MEAN_REVERSION     ICICIGI  1.23           2  \n",
       "2494  15:10:23     3790.95        MEAN_REVERSION         MCX  1.38           1  \n",
       "\n",
       "[2495 rows x 12 columns]"
      ]
     },
     "execution_count": 7,
     "metadata": {},
     "output_type": "execute_result"
    }
   ],
   "source": [
    "df"
   ]
  },
  {
   "cell_type": "code",
   "execution_count": 14,
   "metadata": {},
   "outputs": [
    {
     "name": "stdout",
     "output_type": "stream",
     "text": [
      "<class 'pandas.core.frame.DataFrame'>\n",
      "RangeIndex: 2484 entries, 0 to 2483\n",
      "Data columns (total 12 columns):\n",
      " #   Column      Non-Null Count  Dtype  \n",
      "---  ------      --------------  -----  \n",
      " 0   brokerage   2484 non-null   float64\n",
      " 1   buy_time    2484 non-null   object \n",
      " 2   buy_value   2484 non-null   float64\n",
      " 3   date        2484 non-null   object \n",
      " 4   net_pnl     2484 non-null   float64\n",
      " 5   pnl         2484 non-null   float64\n",
      " 6   sell_time   2484 non-null   object \n",
      " 7   sell_value  2484 non-null   float64\n",
      " 8   strategy    2484 non-null   object \n",
      " 9   symbol      2484 non-null   object \n",
      " 10  tax         2484 non-null   float64\n",
      " 11  traded_qty  2484 non-null   int64  \n",
      "dtypes: float64(6), int64(1), object(5)\n",
      "memory usage: 233.0+ KB\n"
     ]
    }
   ],
   "source": [
    "df.info()"
   ]
  },
  {
   "cell_type": "code",
   "execution_count": 14,
   "metadata": {},
   "outputs": [],
   "source": [
    "df=pd.read_csv('../data/trades_v1.csv')"
   ]
  },
  {
   "cell_type": "code",
   "execution_count": 15,
   "metadata": {},
   "outputs": [
    {
     "data": {
      "text/html": [
       "<div>\n",
       "<style scoped>\n",
       "    .dataframe tbody tr th:only-of-type {\n",
       "        vertical-align: middle;\n",
       "    }\n",
       "\n",
       "    .dataframe tbody tr th {\n",
       "        vertical-align: top;\n",
       "    }\n",
       "\n",
       "    .dataframe thead th {\n",
       "        text-align: right;\n",
       "    }\n",
       "</style>\n",
       "<table border=\"1\" class=\"dataframe\">\n",
       "  <thead>\n",
       "    <tr style=\"text-align: right;\">\n",
       "      <th></th>\n",
       "      <th>brokerage</th>\n",
       "      <th>buy_time</th>\n",
       "      <th>buy_value</th>\n",
       "      <th>date</th>\n",
       "      <th>net_pnl</th>\n",
       "      <th>pnl</th>\n",
       "      <th>sell_time</th>\n",
       "      <th>sell_value</th>\n",
       "      <th>strategy</th>\n",
       "      <th>symbol</th>\n",
       "      <th>tax</th>\n",
       "      <th>traded_qty</th>\n",
       "    </tr>\n",
       "  </thead>\n",
       "  <tbody>\n",
       "    <tr>\n",
       "      <th>0</th>\n",
       "      <td>0.0</td>\n",
       "      <td>09:15:46</td>\n",
       "      <td>4179.95</td>\n",
       "      <td>2024-01-10T00:00:00Z</td>\n",
       "      <td>3.13</td>\n",
       "      <td>4.65</td>\n",
       "      <td>15:10:23</td>\n",
       "      <td>4184.60</td>\n",
       "      <td>MEAN_REVERSION</td>\n",
       "      <td>SIEMENS</td>\n",
       "      <td>1.52</td>\n",
       "      <td>1</td>\n",
       "    </tr>\n",
       "    <tr>\n",
       "      <th>1</th>\n",
       "      <td>0.0</td>\n",
       "      <td>09:15:49</td>\n",
       "      <td>4946.40</td>\n",
       "      <td>2024-01-10T00:00:00Z</td>\n",
       "      <td>-118.76</td>\n",
       "      <td>-117.00</td>\n",
       "      <td>12:06:07</td>\n",
       "      <td>4829.40</td>\n",
       "      <td>SWING_STOCHASTIC_RSI</td>\n",
       "      <td>GRANULES</td>\n",
       "      <td>1.76</td>\n",
       "      <td>12</td>\n",
       "    </tr>\n",
       "    <tr>\n",
       "      <th>2</th>\n",
       "      <td>0.0</td>\n",
       "      <td>09:15:27</td>\n",
       "      <td>4979.70</td>\n",
       "      <td>2024-01-11T00:00:00Z</td>\n",
       "      <td>16.88</td>\n",
       "      <td>18.70</td>\n",
       "      <td>15:10:24</td>\n",
       "      <td>4998.40</td>\n",
       "      <td>SWING_STOCHASTIC_RSI</td>\n",
       "      <td>CANBK</td>\n",
       "      <td>1.82</td>\n",
       "      <td>11</td>\n",
       "    </tr>\n",
       "    <tr>\n",
       "      <th>3</th>\n",
       "      <td>0.0</td>\n",
       "      <td>09:37:14</td>\n",
       "      <td>4617.60</td>\n",
       "      <td>2024-01-11T00:00:00Z</td>\n",
       "      <td>-45.77</td>\n",
       "      <td>-44.10</td>\n",
       "      <td>15:10:24</td>\n",
       "      <td>4573.50</td>\n",
       "      <td>SWING_STOCHASTIC_RSI</td>\n",
       "      <td>SBICARD</td>\n",
       "      <td>1.67</td>\n",
       "      <td>6</td>\n",
       "    </tr>\n",
       "    <tr>\n",
       "      <th>4</th>\n",
       "      <td>0.0</td>\n",
       "      <td>09:15:55</td>\n",
       "      <td>4960.80</td>\n",
       "      <td>2024-01-11T00:00:00Z</td>\n",
       "      <td>-27.80</td>\n",
       "      <td>-26.00</td>\n",
       "      <td>15:10:24</td>\n",
       "      <td>4934.80</td>\n",
       "      <td>SWING_STOCHASTIC_RSI</td>\n",
       "      <td>PNB</td>\n",
       "      <td>1.80</td>\n",
       "      <td>52</td>\n",
       "    </tr>\n",
       "    <tr>\n",
       "      <th>...</th>\n",
       "      <td>...</td>\n",
       "      <td>...</td>\n",
       "      <td>...</td>\n",
       "      <td>...</td>\n",
       "      <td>...</td>\n",
       "      <td>...</td>\n",
       "      <td>...</td>\n",
       "      <td>...</td>\n",
       "      <td>...</td>\n",
       "      <td>...</td>\n",
       "      <td>...</td>\n",
       "      <td>...</td>\n",
       "    </tr>\n",
       "    <tr>\n",
       "      <th>2490</th>\n",
       "      <td>0.0</td>\n",
       "      <td>10:45:40</td>\n",
       "      <td>6748.50</td>\n",
       "      <td>2024-04-18T00:00:00Z</td>\n",
       "      <td>60.23</td>\n",
       "      <td>62.70</td>\n",
       "      <td>10:15:19</td>\n",
       "      <td>6811.20</td>\n",
       "      <td>INTRADAY_GAP_UP</td>\n",
       "      <td>HDFCLIFE</td>\n",
       "      <td>2.47</td>\n",
       "      <td>11</td>\n",
       "    </tr>\n",
       "    <tr>\n",
       "      <th>2491</th>\n",
       "      <td>0.0</td>\n",
       "      <td>09:15:47</td>\n",
       "      <td>4760.00</td>\n",
       "      <td>2024-04-19T00:00:00Z</td>\n",
       "      <td>164.82</td>\n",
       "      <td>166.60</td>\n",
       "      <td>15:10:23</td>\n",
       "      <td>4926.60</td>\n",
       "      <td>MEAN_REVERSION</td>\n",
       "      <td>INDUSTOWER</td>\n",
       "      <td>1.78</td>\n",
       "      <td>14</td>\n",
       "    </tr>\n",
       "    <tr>\n",
       "      <th>2492</th>\n",
       "      <td>0.0</td>\n",
       "      <td>09:15:48</td>\n",
       "      <td>3794.10</td>\n",
       "      <td>2024-04-19T00:00:00Z</td>\n",
       "      <td>80.05</td>\n",
       "      <td>81.45</td>\n",
       "      <td>15:10:23</td>\n",
       "      <td>3875.55</td>\n",
       "      <td>MEAN_REVERSION</td>\n",
       "      <td>BHARTIARTL</td>\n",
       "      <td>1.40</td>\n",
       "      <td>3</td>\n",
       "    </tr>\n",
       "    <tr>\n",
       "      <th>2493</th>\n",
       "      <td>0.0</td>\n",
       "      <td>09:15:46</td>\n",
       "      <td>3383.90</td>\n",
       "      <td>2024-04-19T00:00:00Z</td>\n",
       "      <td>-5.33</td>\n",
       "      <td>-4.10</td>\n",
       "      <td>15:10:23</td>\n",
       "      <td>3379.80</td>\n",
       "      <td>MEAN_REVERSION</td>\n",
       "      <td>ICICIGI</td>\n",
       "      <td>1.23</td>\n",
       "      <td>2</td>\n",
       "    </tr>\n",
       "    <tr>\n",
       "      <th>2494</th>\n",
       "      <td>0.0</td>\n",
       "      <td>09:15:48</td>\n",
       "      <td>3842.25</td>\n",
       "      <td>2024-04-19T00:00:00Z</td>\n",
       "      <td>-52.68</td>\n",
       "      <td>-51.30</td>\n",
       "      <td>15:10:23</td>\n",
       "      <td>3790.95</td>\n",
       "      <td>MEAN_REVERSION</td>\n",
       "      <td>MCX</td>\n",
       "      <td>1.38</td>\n",
       "      <td>1</td>\n",
       "    </tr>\n",
       "  </tbody>\n",
       "</table>\n",
       "<p>2495 rows × 12 columns</p>\n",
       "</div>"
      ],
      "text/plain": [
       "      brokerage  buy_time  buy_value                  date  net_pnl     pnl  \\\n",
       "0           0.0  09:15:46    4179.95  2024-01-10T00:00:00Z     3.13    4.65   \n",
       "1           0.0  09:15:49    4946.40  2024-01-10T00:00:00Z  -118.76 -117.00   \n",
       "2           0.0  09:15:27    4979.70  2024-01-11T00:00:00Z    16.88   18.70   \n",
       "3           0.0  09:37:14    4617.60  2024-01-11T00:00:00Z   -45.77  -44.10   \n",
       "4           0.0  09:15:55    4960.80  2024-01-11T00:00:00Z   -27.80  -26.00   \n",
       "...         ...       ...        ...                   ...      ...     ...   \n",
       "2490        0.0  10:45:40    6748.50  2024-04-18T00:00:00Z    60.23   62.70   \n",
       "2491        0.0  09:15:47    4760.00  2024-04-19T00:00:00Z   164.82  166.60   \n",
       "2492        0.0  09:15:48    3794.10  2024-04-19T00:00:00Z    80.05   81.45   \n",
       "2493        0.0  09:15:46    3383.90  2024-04-19T00:00:00Z    -5.33   -4.10   \n",
       "2494        0.0  09:15:48    3842.25  2024-04-19T00:00:00Z   -52.68  -51.30   \n",
       "\n",
       "     sell_time  sell_value              strategy      symbol   tax  traded_qty  \n",
       "0     15:10:23     4184.60        MEAN_REVERSION     SIEMENS  1.52           1  \n",
       "1     12:06:07     4829.40  SWING_STOCHASTIC_RSI    GRANULES  1.76          12  \n",
       "2     15:10:24     4998.40  SWING_STOCHASTIC_RSI       CANBK  1.82          11  \n",
       "3     15:10:24     4573.50  SWING_STOCHASTIC_RSI     SBICARD  1.67           6  \n",
       "4     15:10:24     4934.80  SWING_STOCHASTIC_RSI         PNB  1.80          52  \n",
       "...        ...         ...                   ...         ...   ...         ...  \n",
       "2490  10:15:19     6811.20       INTRADAY_GAP_UP    HDFCLIFE  2.47          11  \n",
       "2491  15:10:23     4926.60        MEAN_REVERSION  INDUSTOWER  1.78          14  \n",
       "2492  15:10:23     3875.55        MEAN_REVERSION  BHARTIARTL  1.40           3  \n",
       "2493  15:10:23     3379.80        MEAN_REVERSION     ICICIGI  1.23           2  \n",
       "2494  15:10:23     3790.95        MEAN_REVERSION         MCX  1.38           1  \n",
       "\n",
       "[2495 rows x 12 columns]"
      ]
     },
     "execution_count": 15,
     "metadata": {},
     "output_type": "execute_result"
    }
   ],
   "source": [
    "df"
   ]
  },
  {
   "cell_type": "code",
   "execution_count": 23,
   "metadata": {},
   "outputs": [
    {
     "data": {
      "text/html": [
       "<div>\n",
       "<style scoped>\n",
       "    .dataframe tbody tr th:only-of-type {\n",
       "        vertical-align: middle;\n",
       "    }\n",
       "\n",
       "    .dataframe tbody tr th {\n",
       "        vertical-align: top;\n",
       "    }\n",
       "\n",
       "    .dataframe thead th {\n",
       "        text-align: right;\n",
       "    }\n",
       "</style>\n",
       "<table border=\"1\" class=\"dataframe\">\n",
       "  <thead>\n",
       "    <tr style=\"text-align: right;\">\n",
       "      <th></th>\n",
       "      <th>brokerage</th>\n",
       "      <th>buy_value</th>\n",
       "      <th>net_pnl</th>\n",
       "      <th>pnl</th>\n",
       "      <th>sell_value</th>\n",
       "      <th>tax</th>\n",
       "      <th>traded_qty</th>\n",
       "    </tr>\n",
       "  </thead>\n",
       "  <tbody>\n",
       "    <tr>\n",
       "      <th>count</th>\n",
       "      <td>2495.000000</td>\n",
       "      <td>2495.000000</td>\n",
       "      <td>2495.000000</td>\n",
       "      <td>2495.000000</td>\n",
       "      <td>2495.000000</td>\n",
       "      <td>2495.000000</td>\n",
       "      <td>2495.000000</td>\n",
       "    </tr>\n",
       "    <tr>\n",
       "      <th>mean</th>\n",
       "      <td>0.751547</td>\n",
       "      <td>5365.333463</td>\n",
       "      <td>-2.826657</td>\n",
       "      <td>0.009920</td>\n",
       "      <td>5365.343383</td>\n",
       "      <td>2.085058</td>\n",
       "      <td>15.921042</td>\n",
       "    </tr>\n",
       "    <tr>\n",
       "      <th>std</th>\n",
       "      <td>1.369219</td>\n",
       "      <td>1257.237164</td>\n",
       "      <td>92.383932</td>\n",
       "      <td>92.359757</td>\n",
       "      <td>1255.257901</td>\n",
       "      <td>0.522483</td>\n",
       "      <td>19.612193</td>\n",
       "    </tr>\n",
       "    <tr>\n",
       "      <th>min</th>\n",
       "      <td>0.000000</td>\n",
       "      <td>346.000000</td>\n",
       "      <td>-319.500000</td>\n",
       "      <td>-316.000000</td>\n",
       "      <td>346.950000</td>\n",
       "      <td>0.130000</td>\n",
       "      <td>1.000000</td>\n",
       "    </tr>\n",
       "    <tr>\n",
       "      <th>25%</th>\n",
       "      <td>0.000000</td>\n",
       "      <td>4663.600000</td>\n",
       "      <td>-55.670000</td>\n",
       "      <td>-52.900000</td>\n",
       "      <td>4653.775000</td>\n",
       "      <td>1.730000</td>\n",
       "      <td>3.000000</td>\n",
       "    </tr>\n",
       "    <tr>\n",
       "      <th>50%</th>\n",
       "      <td>0.000000</td>\n",
       "      <td>4981.250000</td>\n",
       "      <td>-6.160000</td>\n",
       "      <td>-3.600000</td>\n",
       "      <td>4989.500000</td>\n",
       "      <td>2.120000</td>\n",
       "      <td>8.000000</td>\n",
       "    </tr>\n",
       "    <tr>\n",
       "      <th>75%</th>\n",
       "      <td>0.000000</td>\n",
       "      <td>6315.125000</td>\n",
       "      <td>45.525000</td>\n",
       "      <td>47.775000</td>\n",
       "      <td>6321.600000</td>\n",
       "      <td>2.370000</td>\n",
       "      <td>20.000000</td>\n",
       "    </tr>\n",
       "    <tr>\n",
       "      <th>max</th>\n",
       "      <td>3.980000</td>\n",
       "      <td>12317.900000</td>\n",
       "      <td>753.830000</td>\n",
       "      <td>759.500000</td>\n",
       "      <td>12293.200000</td>\n",
       "      <td>4.470000</td>\n",
       "      <td>128.000000</td>\n",
       "    </tr>\n",
       "  </tbody>\n",
       "</table>\n",
       "</div>"
      ],
      "text/plain": [
       "         brokerage     buy_value      net_pnl          pnl    sell_value  \\\n",
       "count  2495.000000   2495.000000  2495.000000  2495.000000   2495.000000   \n",
       "mean      0.751547   5365.333463    -2.826657     0.009920   5365.343383   \n",
       "std       1.369219   1257.237164    92.383932    92.359757   1255.257901   \n",
       "min       0.000000    346.000000  -319.500000  -316.000000    346.950000   \n",
       "25%       0.000000   4663.600000   -55.670000   -52.900000   4653.775000   \n",
       "50%       0.000000   4981.250000    -6.160000    -3.600000   4989.500000   \n",
       "75%       0.000000   6315.125000    45.525000    47.775000   6321.600000   \n",
       "max       3.980000  12317.900000   753.830000   759.500000  12293.200000   \n",
       "\n",
       "               tax   traded_qty  \n",
       "count  2495.000000  2495.000000  \n",
       "mean      2.085058    15.921042  \n",
       "std       0.522483    19.612193  \n",
       "min       0.130000     1.000000  \n",
       "25%       1.730000     3.000000  \n",
       "50%       2.120000     8.000000  \n",
       "75%       2.370000    20.000000  \n",
       "max       4.470000   128.000000  "
      ]
     },
     "execution_count": 23,
     "metadata": {},
     "output_type": "execute_result"
    }
   ],
   "source": [
    "df.describe()"
   ]
  },
  {
   "cell_type": "code",
   "execution_count": 17,
   "metadata": {},
   "outputs": [],
   "source": [
    "df[\"date\"] = pd.to_datetime(df[\"date\"])"
   ]
  },
  {
   "cell_type": "code",
   "execution_count": 18,
   "metadata": {},
   "outputs": [
    {
     "name": "stdout",
     "output_type": "stream",
     "text": [
      "<class 'pandas.core.frame.DataFrame'>\n",
      "RangeIndex: 2495 entries, 0 to 2494\n",
      "Data columns (total 12 columns):\n",
      " #   Column      Non-Null Count  Dtype              \n",
      "---  ------      --------------  -----              \n",
      " 0   brokerage   2495 non-null   float64            \n",
      " 1   buy_time    2495 non-null   object             \n",
      " 2   buy_value   2495 non-null   float64            \n",
      " 3   date        2495 non-null   datetime64[ns, UTC]\n",
      " 4   net_pnl     2495 non-null   float64            \n",
      " 5   pnl         2495 non-null   float64            \n",
      " 6   sell_time   2495 non-null   object             \n",
      " 7   sell_value  2495 non-null   float64            \n",
      " 8   strategy    2495 non-null   object             \n",
      " 9   symbol      2495 non-null   object             \n",
      " 10  tax         2495 non-null   float64            \n",
      " 11  traded_qty  2495 non-null   int64              \n",
      "dtypes: datetime64[ns, UTC](1), float64(6), int64(1), object(4)\n",
      "memory usage: 234.0+ KB\n"
     ]
    }
   ],
   "source": [
    "df.info()"
   ]
  },
  {
   "cell_type": "code",
   "execution_count": 19,
   "metadata": {},
   "outputs": [],
   "source": [
    "df[\"Day_of_week\"] = df[\"date\"].dt.day_name()"
   ]
  },
  {
   "cell_type": "code",
   "execution_count": 21,
   "metadata": {},
   "outputs": [
    {
     "data": {
      "text/plain": [
       "Day_of_week\n",
       "Friday      -2899.96\n",
       "Monday      -2952.48\n",
       "Thursday     2167.39\n",
       "Tuesday     -5315.07\n",
       "Wednesday    1947.61\n",
       "Name: net_pnl, dtype: float64"
      ]
     },
     "execution_count": 21,
     "metadata": {},
     "output_type": "execute_result"
    }
   ],
   "source": [
    "df.groupby(\"Day_of_week\")[\"net_pnl\"].sum()"
   ]
  },
  {
   "cell_type": "code",
   "execution_count": 9,
   "metadata": {},
   "outputs": [],
   "source": [
    "daily_df=df.groupby('date')[\"net_pnl\"].sum().reset_index().set_index('date')"
   ]
  },
  {
   "cell_type": "code",
   "execution_count": 10,
   "metadata": {},
   "outputs": [],
   "source": [
    "daily_df.index = pd.to_datetime(daily_df.index)"
   ]
  },
  {
   "cell_type": "code",
   "execution_count": 11,
   "metadata": {},
   "outputs": [],
   "source": [
    "daily_df[\"cum_pnl\"]=daily_df[\"net_pnl\"].cumsum()"
   ]
  },
  {
   "cell_type": "code",
   "execution_count": 12,
   "metadata": {},
   "outputs": [
    {
     "data": {
      "text/plain": [
       "<Axes: xlabel='date'>"
      ]
     },
     "execution_count": 12,
     "metadata": {},
     "output_type": "execute_result"
    },
    {
     "data": {
      "image/png": "[encoded data removed]",
      "text/plain": [
       "<Figure size 640x480 with 1 Axes>"
      ]
     },
     "metadata": {},
     "output_type": "display_data"
    }
   ],
   "source": [
    "daily_df[\"cum_pnl\"].plot()"
   ]
  },
  {
   "cell_type": "code",
   "execution_count": 25,
   "metadata": {},
   "outputs": [],
   "source": [
    "df.to_csv('./df.csv', index=False)"
   ]
  },
  {
   "cell_type": "code",
   "execution_count": 14,
   "metadata": {},
   "outputs": [
    {
     "data": {
      "text/plain": [
       "date\n",
       "2024-02-28    410.04\n",
       "2024-02-29     33.38\n",
       "2024-03-01     62.41\n",
       "2024-03-04    933.79\n",
       "2024-03-05    497.79\n",
       "2024-03-06   -154.47\n",
       "2024-03-07    343.30\n",
       "2024-03-11   -334.25\n",
       "2024-03-12   -269.88\n",
       "2024-03-14    -42.01\n",
       "2024-03-15   -591.95\n",
       "2024-03-18    424.70\n",
       "2024-03-19   -376.20\n",
       "2024-03-20    -72.08\n",
       "2024-03-21    238.82\n",
       "2024-03-22    198.49\n",
       "2024-03-26    -14.94\n",
       "2024-03-27    499.53\n",
       "2024-03-28    -23.24\n",
       "2024-04-02    124.15\n",
       "2024-04-03     76.39\n",
       "2024-04-04   -274.42\n",
       "2024-04-05    260.67\n",
       "2024-04-08    797.55\n",
       "2024-04-10    609.76\n",
       "2024-04-12   -171.40\n",
       "2024-04-15    -17.70\n",
       "2024-04-16    178.75\n",
       "2024-04-18    322.98\n",
       "2024-04-19    186.86\n",
       "Name: net_pnl, dtype: float64"
      ]
     },
     "execution_count": 14,
     "metadata": {},
     "output_type": "execute_result"
    }
   ],
   "source": [
    "daily_df.tail(30)[\"net_pnl\"]"
   ]
  },
  {
   "cell_type": "code",
   "execution_count": 15,
   "metadata": {},
   "outputs": [
    {
     "data": {
      "text/html": [
       "<div>\n",
       "<style scoped>\n",
       "    .dataframe tbody tr th:only-of-type {\n",
       "        vertical-align: middle;\n",
       "    }\n",
       "\n",
       "    .dataframe tbody tr th {\n",
       "        vertical-align: top;\n",
       "    }\n",
       "\n",
       "    .dataframe thead th {\n",
       "        text-align: right;\n",
       "    }\n",
       "</style>\n",
       "<table border=\"1\" class=\"dataframe\">\n",
       "  <thead>\n",
       "    <tr style=\"text-align: right;\">\n",
       "      <th></th>\n",
       "      <th>net_pnl</th>\n",
       "      <th>cum_pnl</th>\n",
       "    </tr>\n",
       "    <tr>\n",
       "      <th>date</th>\n",
       "      <th></th>\n",
       "      <th></th>\n",
       "    </tr>\n",
       "  </thead>\n",
       "  <tbody>\n",
       "    <tr>\n",
       "      <th>2022-02-23</th>\n",
       "      <td>-53.40</td>\n",
       "      <td>-53.40</td>\n",
       "    </tr>\n",
       "    <tr>\n",
       "      <th>2022-02-24</th>\n",
       "      <td>84.16</td>\n",
       "      <td>30.76</td>\n",
       "    </tr>\n",
       "    <tr>\n",
       "      <th>2022-02-28</th>\n",
       "      <td>-339.50</td>\n",
       "      <td>-308.74</td>\n",
       "    </tr>\n",
       "    <tr>\n",
       "      <th>2022-03-02</th>\n",
       "      <td>-663.59</td>\n",
       "      <td>-972.33</td>\n",
       "    </tr>\n",
       "    <tr>\n",
       "      <th>2022-03-04</th>\n",
       "      <td>339.32</td>\n",
       "      <td>-633.01</td>\n",
       "    </tr>\n",
       "    <tr>\n",
       "      <th>...</th>\n",
       "      <td>...</td>\n",
       "      <td>...</td>\n",
       "    </tr>\n",
       "    <tr>\n",
       "      <th>2024-04-12</th>\n",
       "      <td>-171.40</td>\n",
       "      <td>-7723.40</td>\n",
       "    </tr>\n",
       "    <tr>\n",
       "      <th>2024-04-15</th>\n",
       "      <td>-17.70</td>\n",
       "      <td>-7741.10</td>\n",
       "    </tr>\n",
       "    <tr>\n",
       "      <th>2024-04-16</th>\n",
       "      <td>178.75</td>\n",
       "      <td>-7562.35</td>\n",
       "    </tr>\n",
       "    <tr>\n",
       "      <th>2024-04-18</th>\n",
       "      <td>322.98</td>\n",
       "      <td>-7239.37</td>\n",
       "    </tr>\n",
       "    <tr>\n",
       "      <th>2024-04-19</th>\n",
       "      <td>186.86</td>\n",
       "      <td>-7052.51</td>\n",
       "    </tr>\n",
       "  </tbody>\n",
       "</table>\n",
       "<p>447 rows × 2 columns</p>\n",
       "</div>"
      ],
      "text/plain": [
       "            net_pnl  cum_pnl\n",
       "date                        \n",
       "2022-02-23   -53.40   -53.40\n",
       "2022-02-24    84.16    30.76\n",
       "2022-02-28  -339.50  -308.74\n",
       "2022-03-02  -663.59  -972.33\n",
       "2022-03-04   339.32  -633.01\n",
       "...             ...      ...\n",
       "2024-04-12  -171.40 -7723.40\n",
       "2024-04-15   -17.70 -7741.10\n",
       "2024-04-16   178.75 -7562.35\n",
       "2024-04-18   322.98 -7239.37\n",
       "2024-04-19   186.86 -7052.51\n",
       "\n",
       "[447 rows x 2 columns]"
      ]
     },
     "execution_count": 15,
     "metadata": {},
     "output_type": "execute_result"
    }
   ],
   "source": [
    "daily_df"
   ]
  },
  {
   "cell_type": "code",
   "execution_count": 21,
   "metadata": {},
   "outputs": [
    {
     "data": {
      "text/plain": [
       "date\n",
       "2024-04-19    186.86\n",
       "Name: net_pnl, dtype: float64"
      ]
     },
     "execution_count": 21,
     "metadata": {},
     "output_type": "execute_result"
    }
   ],
   "source": [
    "daily_df['net_pnl'].tail(1)"
   ]
  },
  {
   "cell_type": "code",
   "execution_count": 5,
   "metadata": {},
   "outputs": [
    {
     "ename": "NameError",
     "evalue": "name 'daily_df' is not defined",
     "output_type": "error",
     "traceback": [
      "\u001b[0;31m---------------------------------------------------------------------------\u001b[0m",
      "\u001b[0;31mNameError\u001b[0m                                 Traceback (most recent call last)",
      "Cell \u001b[0;32mIn[5], line 1\u001b[0m\n\u001b[0;32m----> 1\u001b[0m daily_df\u001b[38;5;241m.\u001b[39mindex\n",
      "\u001b[0;31mNameError\u001b[0m: name 'daily_df' is not defined"
     ]
    }
   ],
   "source": [
    "daily_df.index"
   ]
  },
  {
   "cell_type": "code",
   "execution_count": 23,
   "metadata": {},
   "outputs": [
    {
     "data": {
      "text/html": [
       "<div>\n",
       "<style scoped>\n",
       "    .dataframe tbody tr th:only-of-type {\n",
       "        vertical-align: middle;\n",
       "    }\n",
       "\n",
       "    .dataframe tbody tr th {\n",
       "        vertical-align: top;\n",
       "    }\n",
       "\n",
       "    .dataframe thead th {\n",
       "        text-align: right;\n",
       "    }\n",
       "</style>\n",
       "<table border=\"1\" class=\"dataframe\">\n",
       "  <thead>\n",
       "    <tr style=\"text-align: right;\">\n",
       "      <th></th>\n",
       "      <th>net_pnl</th>\n",
       "      <th>cum_pnl</th>\n",
       "    </tr>\n",
       "    <tr>\n",
       "      <th>date</th>\n",
       "      <th></th>\n",
       "      <th></th>\n",
       "    </tr>\n",
       "  </thead>\n",
       "  <tbody>\n",
       "    <tr>\n",
       "      <th>2022-02-28</th>\n",
       "      <td>-308.74</td>\n",
       "      <td>-308.74</td>\n",
       "    </tr>\n",
       "    <tr>\n",
       "      <th>2022-03-31</th>\n",
       "      <td>661.19</td>\n",
       "      <td>352.45</td>\n",
       "    </tr>\n",
       "    <tr>\n",
       "      <th>2022-04-30</th>\n",
       "      <td>-561.68</td>\n",
       "      <td>-209.23</td>\n",
       "    </tr>\n",
       "    <tr>\n",
       "      <th>2022-05-31</th>\n",
       "      <td>-337.81</td>\n",
       "      <td>-547.04</td>\n",
       "    </tr>\n",
       "    <tr>\n",
       "      <th>2022-06-30</th>\n",
       "      <td>1443.11</td>\n",
       "      <td>896.07</td>\n",
       "    </tr>\n",
       "    <tr>\n",
       "      <th>2022-07-31</th>\n",
       "      <td>-898.80</td>\n",
       "      <td>-2.73</td>\n",
       "    </tr>\n",
       "    <tr>\n",
       "      <th>2022-08-31</th>\n",
       "      <td>-1595.03</td>\n",
       "      <td>-1597.76</td>\n",
       "    </tr>\n",
       "    <tr>\n",
       "      <th>2022-09-30</th>\n",
       "      <td>-184.17</td>\n",
       "      <td>-1781.93</td>\n",
       "    </tr>\n",
       "    <tr>\n",
       "      <th>2022-10-31</th>\n",
       "      <td>-1631.43</td>\n",
       "      <td>-3413.36</td>\n",
       "    </tr>\n",
       "    <tr>\n",
       "      <th>2022-11-30</th>\n",
       "      <td>-3753.81</td>\n",
       "      <td>-7167.17</td>\n",
       "    </tr>\n",
       "    <tr>\n",
       "      <th>2022-12-31</th>\n",
       "      <td>785.90</td>\n",
       "      <td>-6381.27</td>\n",
       "    </tr>\n",
       "    <tr>\n",
       "      <th>2023-01-31</th>\n",
       "      <td>-937.77</td>\n",
       "      <td>-7319.04</td>\n",
       "    </tr>\n",
       "    <tr>\n",
       "      <th>2023-02-28</th>\n",
       "      <td>1103.61</td>\n",
       "      <td>-6215.43</td>\n",
       "    </tr>\n",
       "    <tr>\n",
       "      <th>2023-03-31</th>\n",
       "      <td>-1252.11</td>\n",
       "      <td>-7467.54</td>\n",
       "    </tr>\n",
       "    <tr>\n",
       "      <th>2023-04-30</th>\n",
       "      <td>-814.78</td>\n",
       "      <td>-8282.32</td>\n",
       "    </tr>\n",
       "    <tr>\n",
       "      <th>2023-05-31</th>\n",
       "      <td>-1519.07</td>\n",
       "      <td>-9801.39</td>\n",
       "    </tr>\n",
       "    <tr>\n",
       "      <th>2023-06-30</th>\n",
       "      <td>909.44</td>\n",
       "      <td>-8891.95</td>\n",
       "    </tr>\n",
       "    <tr>\n",
       "      <th>2023-07-31</th>\n",
       "      <td>6.84</td>\n",
       "      <td>-8885.11</td>\n",
       "    </tr>\n",
       "    <tr>\n",
       "      <th>2023-08-31</th>\n",
       "      <td>235.54</td>\n",
       "      <td>-8649.57</td>\n",
       "    </tr>\n",
       "    <tr>\n",
       "      <th>2023-09-30</th>\n",
       "      <td>207.73</td>\n",
       "      <td>-8441.84</td>\n",
       "    </tr>\n",
       "    <tr>\n",
       "      <th>2023-10-31</th>\n",
       "      <td>-211.64</td>\n",
       "      <td>-8653.48</td>\n",
       "    </tr>\n",
       "    <tr>\n",
       "      <th>2023-11-30</th>\n",
       "      <td>-2460.70</td>\n",
       "      <td>-11114.18</td>\n",
       "    </tr>\n",
       "    <tr>\n",
       "      <th>2023-12-31</th>\n",
       "      <td>-272.41</td>\n",
       "      <td>-11386.59</td>\n",
       "    </tr>\n",
       "    <tr>\n",
       "      <th>2024-01-31</th>\n",
       "      <td>-1439.14</td>\n",
       "      <td>-12825.73</td>\n",
       "    </tr>\n",
       "    <tr>\n",
       "      <th>2024-02-29</th>\n",
       "      <td>2359.82</td>\n",
       "      <td>-10465.91</td>\n",
       "    </tr>\n",
       "    <tr>\n",
       "      <th>2024-03-31</th>\n",
       "      <td>1319.81</td>\n",
       "      <td>-9146.10</td>\n",
       "    </tr>\n",
       "    <tr>\n",
       "      <th>2024-04-30</th>\n",
       "      <td>1405.00</td>\n",
       "      <td>-7741.10</td>\n",
       "    </tr>\n",
       "  </tbody>\n",
       "</table>\n",
       "</div>"
      ],
      "text/plain": [
       "            net_pnl   cum_pnl\n",
       "date                         \n",
       "2022-02-28  -308.74   -308.74\n",
       "2022-03-31   661.19    352.45\n",
       "2022-04-30  -561.68   -209.23\n",
       "2022-05-31  -337.81   -547.04\n",
       "2022-06-30  1443.11    896.07\n",
       "2022-07-31  -898.80     -2.73\n",
       "2022-08-31 -1595.03  -1597.76\n",
       "2022-09-30  -184.17  -1781.93\n",
       "2022-10-31 -1631.43  -3413.36\n",
       "2022-11-30 -3753.81  -7167.17\n",
       "2022-12-31   785.90  -6381.27\n",
       "2023-01-31  -937.77  -7319.04\n",
       "2023-02-28  1103.61  -6215.43\n",
       "2023-03-31 -1252.11  -7467.54\n",
       "2023-04-30  -814.78  -8282.32\n",
       "2023-05-31 -1519.07  -9801.39\n",
       "2023-06-30   909.44  -8891.95\n",
       "2023-07-31     6.84  -8885.11\n",
       "2023-08-31   235.54  -8649.57\n",
       "2023-09-30   207.73  -8441.84\n",
       "2023-10-31  -211.64  -8653.48\n",
       "2023-11-30 -2460.70 -11114.18\n",
       "2023-12-31  -272.41 -11386.59\n",
       "2024-01-31 -1439.14 -12825.73\n",
       "2024-02-29  2359.82 -10465.91\n",
       "2024-03-31  1319.81  -9146.10\n",
       "2024-04-30  1405.00  -7741.10"
      ]
     },
     "execution_count": 23,
     "metadata": {},
     "output_type": "execute_result"
    }
   ],
   "source": [
    "monthly_df=daily_df.resample(\"M\").sum()\n",
    "monthly_df[\"cum_pnl\"]=monthly_df[\"net_pnl\"].cumsum()\n",
    "monthly_df"
   ]
  },
  {
   "cell_type": "code",
   "execution_count": 24,
   "metadata": {},
   "outputs": [
    {
     "data": {
      "application/vnd.plotly.v1+json": {
       "config": {
        "plotlyServerURL": "https://plot.ly"
       },
       "data": [
        {
         "alignmentgroup": "True",
         "hovertemplate": "date=%{x}<br>net_pnl=%{y}<extra></extra>",
         "legendgroup": "",
         "marker": {
          "color": "#636efa",
          "pattern": {
           "shape": ""
          }
         },
         "name": "",
         "offsetgroup": "",
         "orientation": "v",
         "showlegend": false,
         "textposition": "auto",
         "type": "bar",
         "x": [
          "2022-02-28T00:00:00",
          "2022-03-31T00:00:00",
          "2022-04-30T00:00:00",
          "2022-05-31T00:00:00",
          "2022-06-30T00:00:00",
          "2022-07-31T00:00:00",
          "2022-08-31T00:00:00",
          "2022-09-30T00:00:00",
          "2022-10-31T00:00:00",
          "2022-11-30T00:00:00",
          "2022-12-31T00:00:00",
          "2023-01-31T00:00:00",
          "2023-02-28T00:00:00",
          "2023-03-31T00:00:00",
          "2023-04-30T00:00:00",
          "2023-05-31T00:00:00",
          "2023-06-30T00:00:00",
          "2023-07-31T00:00:00",
          "2023-08-31T00:00:00",
          "2023-09-30T00:00:00",
          "2023-10-31T00:00:00",
          "2023-11-30T00:00:00",
          "2023-12-31T00:00:00",
          "2024-01-31T00:00:00",
          "2024-02-29T00:00:00",
          "2024-03-31T00:00:00",
          "2024-04-30T00:00:00"
         ],
         "xaxis": "x",
         "y": [
          -308.74,
          661.1899999999999,
          -561.6800000000001,
          -337.80999999999995,
          1443.11,
          -898.8,
          -1595.03,
          -184.17000000000002,
          -1631.4299999999998,
          -3753.81,
          785.8999999999999,
          -937.77,
          1103.6100000000001,
          -1252.11,
          -814.78,
          -1519.07,
          909.4399999999999,
          6.839999999999968,
          235.54,
          207.73000000000002,
          -211.64000000000004,
          -2460.7000000000003,
          -272.41,
          -1439.1399999999999,
          2359.82,
          1319.8100000000002,
          1404.9999999999998
         ],
         "yaxis": "y"
        }
       ],
       "layout": {
        "barmode": "relative",
        "legend": {
         "tracegroupgap": 0
        },
        "margin": {
         "t": 60
        },
        "template": {
         "data": {
          "bar": [
           {
            "error_x": {
             "color": "#2a3f5f"
            },
            "error_y": {
             "color": "#2a3f5f"
            },
            "marker": {
             "line": {
              "color": "#E5ECF6",
              "width": 0.5
             },
             "pattern": {
              "fillmode": "overlay",
              "size": 10,
              "solidity": 0.2
             }
            },
            "type": "bar"
           }
          ],
          "barpolar": [
           {
            "marker": {
             "line": {
              "color": "#E5ECF6",
              "width": 0.5
             },
             "pattern": {
              "fillmode": "overlay",
              "size": 10,
              "solidity": 0.2
             }
            },
            "type": "barpolar"
           }
          ],
          "carpet": [
           {
            "aaxis": {
             "endlinecolor": "#2a3f5f",
             "gridcolor": "white",
             "linecolor": "white",
             "minorgridcolor": "white",
             "startlinecolor": "#2a3f5f"
            },
            "baxis": {
             "endlinecolor": "#2a3f5f",
             "gridcolor": "white",
             "linecolor": "white",
             "minorgridcolor": "white",
             "startlinecolor": "#2a3f5f"
            },
            "type": "carpet"
           }
          ],
          "choropleth": [
           {
            "colorbar": {
             "outlinewidth": 0,
             "ticks": ""
            },
            "type": "choropleth"
           }
          ],
          "contour": [
           {
            "colorbar": {
             "outlinewidth": 0,
             "ticks": ""
            },
            "colorscale": [
             [
              0,
              "#0d0887"
             ],
             [
              0.1111111111111111,
              "#46039f"
             ],
             [
              0.2222222222222222,
              "#7201a8"
             ],
             [
              0.3333333333333333,
              "#9c179e"
             ],
             [
              0.4444444444444444,
              "#bd3786"
             ],
             [
              0.5555555555555556,
              "#d8576b"
             ],
             [
              0.6666666666666666,
              "#ed7953"
             ],
             [
              0.7777777777777778,
              "#fb9f3a"
             ],
             [
              0.8888888888888888,
              "#fdca26"
             ],
             [
              1,
              "#f0f921"
             ]
            ],
            "type": "contour"
           }
          ],
          "contourcarpet": [
           {
            "colorbar": {
             "outlinewidth": 0,
             "ticks": ""
            },
            "type": "contourcarpet"
           }
          ],
          "heatmap": [
           {
            "colorbar": {
             "outlinewidth": 0,
             "ticks": ""
            },
            "colorscale": [
             [
              0,
              "#0d0887"
             ],
             [
              0.1111111111111111,
              "#46039f"
             ],
             [
              0.2222222222222222,
              "#7201a8"
             ],
             [
              0.3333333333333333,
              "#9c179e"
             ],
             [
              0.4444444444444444,
              "#bd3786"
             ],
             [
              0.5555555555555556,
              "#d8576b"
             ],
             [
              0.6666666666666666,
              "#ed7953"
             ],
             [
              0.7777777777777778,
              "#fb9f3a"
             ],
             [
              0.8888888888888888,
              "#fdca26"
             ],
             [
              1,
              "#f0f921"
             ]
            ],
            "type": "heatmap"
           }
          ],
          "heatmapgl": [
           {
            "colorbar": {
             "outlinewidth": 0,
             "ticks": ""
            },
            "colorscale": [
             [
              0,
              "#0d0887"
             ],
             [
              0.1111111111111111,
              "#46039f"
             ],
             [
              0.2222222222222222,
              "#7201a8"
             ],
             [
              0.3333333333333333,
              "#9c179e"
             ],
             [
              0.4444444444444444,
              "#bd3786"
             ],
             [
              0.5555555555555556,
              "#d8576b"
             ],
             [
              0.6666666666666666,
              "#ed7953"
             ],
             [
              0.7777777777777778,
              "#fb9f3a"
             ],
             [
              0.8888888888888888,
              "#fdca26"
             ],
             [
              1,
              "#f0f921"
             ]
            ],
            "type": "heatmapgl"
           }
          ],
          "histogram": [
           {
            "marker": {
             "pattern": {
              "fillmode": "overlay",
              "size": 10,
              "solidity": 0.2
             }
            },
            "type": "histogram"
           }
          ],
          "histogram2d": [
           {
            "colorbar": {
             "outlinewidth": 0,
             "ticks": ""
            },
            "colorscale": [
             [
              0,
              "#0d0887"
             ],
             [
              0.1111111111111111,
              "#46039f"
             ],
             [
              0.2222222222222222,
              "#7201a8"
             ],
             [
              0.3333333333333333,
              "#9c179e"
             ],
             [
              0.4444444444444444,
              "#bd3786"
             ],
             [
              0.5555555555555556,
              "#d8576b"
             ],
             [
              0.6666666666666666,
              "#ed7953"
             ],
             [
              0.7777777777777778,
              "#fb9f3a"
             ],
             [
              0.8888888888888888,
              "#fdca26"
             ],
             [
              1,
              "#f0f921"
             ]
            ],
            "type": "histogram2d"
           }
          ],
          "histogram2dcontour": [
           {
            "colorbar": {
             "outlinewidth": 0,
             "ticks": ""
            },
            "colorscale": [
             [
              0,
              "#0d0887"
             ],
             [
              0.1111111111111111,
              "#46039f"
             ],
             [
              0.2222222222222222,
              "#7201a8"
             ],
             [
              0.3333333333333333,
              "#9c179e"
             ],
             [
              0.4444444444444444,
              "#bd3786"
             ],
             [
              0.5555555555555556,
              "#d8576b"
             ],
             [
              0.6666666666666666,
              "#ed7953"
             ],
             [
              0.7777777777777778,
              "#fb9f3a"
             ],
             [
              0.8888888888888888,
              "#fdca26"
             ],
             [
              1,
              "#f0f921"
             ]
            ],
            "type": "histogram2dcontour"
           }
          ],
          "mesh3d": [
           {
            "colorbar": {
             "outlinewidth": 0,
             "ticks": ""
            },
            "type": "mesh3d"
           }
          ],
          "parcoords": [
           {
            "line": {
             "colorbar": {
              "outlinewidth": 0,
              "ticks": ""
             }
            },
            "type": "parcoords"
           }
          ],
          "pie": [
           {
            "automargin": true,
            "type": "pie"
           }
          ],
          "scatter": [
           {
            "fillpattern": {
             "fillmode": "overlay",
             "size": 10,
             "solidity": 0.2
            },
            "type": "scatter"
           }
          ],
          "scatter3d": [
           {
            "line": {
             "colorbar": {
              "outlinewidth": 0,
              "ticks": ""
             }
            },
            "marker": {
             "colorbar": {
              "outlinewidth": 0,
              "ticks": ""
             }
            },
            "type": "scatter3d"
           }
          ],
          "scattercarpet": [
           {
            "marker": {
             "colorbar": {
              "outlinewidth": 0,
              "ticks": ""
             }
            },
            "type": "scattercarpet"
           }
          ],
          "scattergeo": [
           {
            "marker": {
             "colorbar": {
              "outlinewidth": 0,
              "ticks": ""
             }
            },
            "type": "scattergeo"
           }
          ],
          "scattergl": [
           {
            "marker": {
             "colorbar": {
              "outlinewidth": 0,
              "ticks": ""
             }
            },
            "type": "scattergl"
           }
          ],
          "scattermapbox": [
           {
            "marker": {
             "colorbar": {
              "outlinewidth": 0,
              "ticks": ""
             }
            },
            "type": "scattermapbox"
           }
          ],
          "scatterpolar": [
           {
            "marker": {
             "colorbar": {
              "outlinewidth": 0,
              "ticks": ""
             }
            },
            "type": "scatterpolar"
           }
          ],
          "scatterpolargl": [
           {
            "marker": {
             "colorbar": {
              "outlinewidth": 0,
              "ticks": ""
             }
            },
            "type": "scatterpolargl"
           }
          ],
          "scatterternary": [
           {
            "marker": {
             "colorbar": {
              "outlinewidth": 0,
              "ticks": ""
             }
            },
            "type": "scatterternary"
           }
          ],
          "surface": [
           {
            "colorbar": {
             "outlinewidth": 0,
             "ticks": ""
            },
            "colorscale": [
             [
              0,
              "#0d0887"
             ],
             [
              0.1111111111111111,
              "#46039f"
             ],
             [
              0.2222222222222222,
              "#7201a8"
             ],
             [
              0.3333333333333333,
              "#9c179e"
             ],
             [
              0.4444444444444444,
              "#bd3786"
             ],
             [
              0.5555555555555556,
              "#d8576b"
             ],
             [
              0.6666666666666666,
              "#ed7953"
             ],
             [
              0.7777777777777778,
              "#fb9f3a"
             ],
             [
              0.8888888888888888,
              "#fdca26"
             ],
             [
              1,
              "#f0f921"
             ]
            ],
            "type": "surface"
           }
          ],
          "table": [
           {
            "cells": {
             "fill": {
              "color": "#EBF0F8"
             },
             "line": {
              "color": "white"
             }
            },
            "header": {
             "fill": {
              "color": "#C8D4E3"
             },
             "line": {
              "color": "white"
             }
            },
            "type": "table"
           }
          ]
         },
         "layout": {
          "annotationdefaults": {
           "arrowcolor": "#2a3f5f",
           "arrowhead": 0,
           "arrowwidth": 1
          },
          "autotypenumbers": "strict",
          "coloraxis": {
           "colorbar": {
            "outlinewidth": 0,
            "ticks": ""
           }
          },
          "colorscale": {
           "diverging": [
            [
             0,
             "#8e0152"
            ],
            [
             0.1,
             "#c51b7d"
            ],
            [
             0.2,
             "#de77ae"
            ],
            [
             0.3,
             "#f1b6da"
            ],
            [
             0.4,
             "#fde0ef"
            ],
            [
             0.5,
             "#f7f7f7"
            ],
            [
             0.6,
             "#e6f5d0"
            ],
            [
             0.7,
             "#b8e186"
            ],
            [
             0.8,
             "#7fbc41"
            ],
            [
             0.9,
             "#4d9221"
            ],
            [
             1,
             "#276419"
            ]
           ],
           "sequential": [
            [
             0,
             "#0d0887"
            ],
            [
             0.1111111111111111,
             "#46039f"
            ],
            [
             0.2222222222222222,
             "#7201a8"
            ],
            [
             0.3333333333333333,
             "#9c179e"
            ],
            [
             0.4444444444444444,
             "#bd3786"
            ],
            [
             0.5555555555555556,
             "#d8576b"
            ],
            [
             0.6666666666666666,
             "#ed7953"
            ],
            [
             0.7777777777777778,
             "#fb9f3a"
            ],
            [
             0.8888888888888888,
             "#fdca26"
            ],
            [
             1,
             "#f0f921"
            ]
           ],
           "sequentialminus": [
            [
             0,
             "#0d0887"
            ],
            [
             0.1111111111111111,
             "#46039f"
            ],
            [
             0.2222222222222222,
             "#7201a8"
            ],
            [
             0.3333333333333333,
             "#9c179e"
            ],
            [
             0.4444444444444444,
             "#bd3786"
            ],
            [
             0.5555555555555556,
             "#d8576b"
            ],
            [
             0.6666666666666666,
             "#ed7953"
            ],
            [
             0.7777777777777778,
             "#fb9f3a"
            ],
            [
             0.8888888888888888,
             "#fdca26"
            ],
            [
             1,
             "#f0f921"
            ]
           ]
          },
          "colorway": [
           "#636efa",
           "#EF553B",
           "#00cc96",
           "#ab63fa",
           "#FFA15A",
           "#19d3f3",
           "#FF6692",
           "#B6E880",
           "#FF97FF",
           "#FECB52"
          ],
          "font": {
           "color": "#2a3f5f"
          },
          "geo": {
           "bgcolor": "white",
           "lakecolor": "white",
           "landcolor": "#E5ECF6",
           "showlakes": true,
           "showland": true,
           "subunitcolor": "white"
          },
          "hoverlabel": {
           "align": "left"
          },
          "hovermode": "closest",
          "mapbox": {
           "style": "light"
          },
          "paper_bgcolor": "white",
          "plot_bgcolor": "#E5ECF6",
          "polar": {
           "angularaxis": {
            "gridcolor": "white",
            "linecolor": "white",
            "ticks": ""
           },
           "bgcolor": "#E5ECF6",
           "radialaxis": {
            "gridcolor": "white",
            "linecolor": "white",
            "ticks": ""
           }
          },
          "scene": {
           "xaxis": {
            "backgroundcolor": "#E5ECF6",
            "gridcolor": "white",
            "gridwidth": 2,
            "linecolor": "white",
            "showbackground": true,
            "ticks": "",
            "zerolinecolor": "white"
           },
           "yaxis": {
            "backgroundcolor": "#E5ECF6",
            "gridcolor": "white",
            "gridwidth": 2,
            "linecolor": "white",
            "showbackground": true,
            "ticks": "",
            "zerolinecolor": "white"
           },
           "zaxis": {
            "backgroundcolor": "#E5ECF6",
            "gridcolor": "white",
            "gridwidth": 2,
            "linecolor": "white",
            "showbackground": true,
            "ticks": "",
            "zerolinecolor": "white"
           }
          },
          "shapedefaults": {
           "line": {
            "color": "#2a3f5f"
           }
          },
          "ternary": {
           "aaxis": {
            "gridcolor": "white",
            "linecolor": "white",
            "ticks": ""
           },
           "baxis": {
            "gridcolor": "white",
            "linecolor": "white",
            "ticks": ""
           },
           "bgcolor": "#E5ECF6",
           "caxis": {
            "gridcolor": "white",
            "linecolor": "white",
            "ticks": ""
           }
          },
          "title": {
           "x": 0.05
          },
          "xaxis": {
           "automargin": true,
           "gridcolor": "white",
           "linecolor": "white",
           "ticks": "",
           "title": {
            "standoff": 15
           },
           "zerolinecolor": "white",
           "zerolinewidth": 2
          },
          "yaxis": {
           "automargin": true,
           "gridcolor": "white",
           "linecolor": "white",
           "ticks": "",
           "title": {
            "standoff": 15
           },
           "zerolinecolor": "white",
           "zerolinewidth": 2
          }
         }
        },
        "xaxis": {
         "anchor": "y",
         "domain": [
          0,
          1
         ],
         "title": {
          "text": "date"
         }
        },
        "yaxis": {
         "anchor": "x",
         "domain": [
          0,
          1
         ],
         "title": {
          "text": "net_pnl"
         }
        }
       }
      }
     },
     "metadata": {},
     "output_type": "display_data"
    }
   ],
   "source": [
    "px.bar(monthly_df,x=monthly_df.index,y=\"net_pnl\")"
   ]
  },
  {
   "cell_type": "code",
   "execution_count": 25,
   "metadata": {},
   "outputs": [
    {
     "data": {
      "application/vnd.plotly.v1+json": {
       "config": {
        "plotlyServerURL": "https://plot.ly"
       },
       "data": [
        {
         "text": [
          -309,
          661,
          -562,
          -338,
          1443,
          -899,
          -1595,
          -184,
          -1631,
          -3754,
          786,
          -938,
          1104,
          -1252,
          -815,
          -1519,
          909,
          7,
          236,
          208,
          -212,
          -2461,
          -272,
          -1439,
          2360,
          1320,
          1405
         ],
         "type": "bar",
         "x": [
          "2022-02-28T00:00:00",
          "2022-03-31T00:00:00",
          "2022-04-30T00:00:00",
          "2022-05-31T00:00:00",
          "2022-06-30T00:00:00",
          "2022-07-31T00:00:00",
          "2022-08-31T00:00:00",
          "2022-09-30T00:00:00",
          "2022-10-31T00:00:00",
          "2022-11-30T00:00:00",
          "2022-12-31T00:00:00",
          "2023-01-31T00:00:00",
          "2023-02-28T00:00:00",
          "2023-03-31T00:00:00",
          "2023-04-30T00:00:00",
          "2023-05-31T00:00:00",
          "2023-06-30T00:00:00",
          "2023-07-31T00:00:00",
          "2023-08-31T00:00:00",
          "2023-09-30T00:00:00",
          "2023-10-31T00:00:00",
          "2023-11-30T00:00:00",
          "2023-12-31T00:00:00",
          "2024-01-31T00:00:00",
          "2024-02-29T00:00:00",
          "2024-03-31T00:00:00",
          "2024-04-30T00:00:00"
         ],
         "xaxis": "x",
         "y": [
          -308.74,
          661.1899999999999,
          -561.6800000000001,
          -337.80999999999995,
          1443.11,
          -898.8,
          -1595.03,
          -184.17000000000002,
          -1631.4299999999998,
          -3753.81,
          785.8999999999999,
          -937.77,
          1103.6100000000001,
          -1252.11,
          -814.78,
          -1519.07,
          909.4399999999999,
          6.839999999999968,
          235.54,
          207.73000000000002,
          -211.64000000000004,
          -2460.7000000000003,
          -272.41,
          -1439.1399999999999,
          2359.82,
          1319.8100000000002,
          1404.9999999999998
         ],
         "yaxis": "y"
        },
        {
         "type": "scatter",
         "x": [
          "2022-02-28T00:00:00",
          "2022-03-31T00:00:00",
          "2022-04-30T00:00:00",
          "2022-05-31T00:00:00",
          "2022-06-30T00:00:00",
          "2022-07-31T00:00:00",
          "2022-08-31T00:00:00",
          "2022-09-30T00:00:00",
          "2022-10-31T00:00:00",
          "2022-11-30T00:00:00",
          "2022-12-31T00:00:00",
          "2023-01-31T00:00:00",
          "2023-02-28T00:00:00",
          "2023-03-31T00:00:00",
          "2023-04-30T00:00:00",
          "2023-05-31T00:00:00",
          "2023-06-30T00:00:00",
          "2023-07-31T00:00:00",
          "2023-08-31T00:00:00",
          "2023-09-30T00:00:00",
          "2023-10-31T00:00:00",
          "2023-11-30T00:00:00",
          "2023-12-31T00:00:00",
          "2024-01-31T00:00:00",
          "2024-02-29T00:00:00",
          "2024-03-31T00:00:00",
          "2024-04-30T00:00:00"
         ],
         "xaxis": "x",
         "y": [
          -308.74,
          352.44999999999993,
          -209.23000000000013,
          -547.0400000000001,
          896.0699999999998,
          -2.730000000000132,
          -1597.7600000000002,
          -1781.9300000000003,
          -3413.36,
          -7167.17,
          -6381.27,
          -7319.040000000001,
          -6215.43,
          -7467.54,
          -8282.32,
          -9801.39,
          -8891.949999999999,
          -8885.109999999999,
          -8649.569999999998,
          -8441.839999999998,
          -8653.479999999998,
          -11114.179999999998,
          -11386.589999999998,
          -12825.729999999998,
          -10465.909999999998,
          -9146.099999999999,
          -7741.0999999999985
         ],
         "yaxis": "y2"
        }
       ],
       "layout": {
        "legend": {
         "orientation": "h",
         "xanchor": "auto",
         "yanchor": "bottom"
        },
        "template": {
         "data": {
          "bar": [
           {
            "error_x": {
             "color": "#2a3f5f"
            },
            "error_y": {
             "color": "#2a3f5f"
            },
            "marker": {
             "line": {
              "color": "#E5ECF6",
              "width": 0.5
             },
             "pattern": {
              "fillmode": "overlay",
              "size": 10,
              "solidity": 0.2
             }
            },
            "type": "bar"
           }
          ],
          "barpolar": [
           {
            "marker": {
             "line": {
              "color": "#E5ECF6",
              "width": 0.5
             },
             "pattern": {
              "fillmode": "overlay",
              "size": 10,
              "solidity": 0.2
             }
            },
            "type": "barpolar"
           }
          ],
          "carpet": [
           {
            "aaxis": {
             "endlinecolor": "#2a3f5f",
             "gridcolor": "white",
             "linecolor": "white",
             "minorgridcolor": "white",
             "startlinecolor": "#2a3f5f"
            },
            "baxis": {
             "endlinecolor": "#2a3f5f",
             "gridcolor": "white",
             "linecolor": "white",
             "minorgridcolor": "white",
             "startlinecolor": "#2a3f5f"
            },
            "type": "carpet"
           }
          ],
          "choropleth": [
           {
            "colorbar": {
             "outlinewidth": 0,
             "ticks": ""
            },
            "type": "choropleth"
           }
          ],
          "contour": [
           {
            "colorbar": {
             "outlinewidth": 0,
             "ticks": ""
            },
            "colorscale": [
             [
              0,
              "#0d0887"
             ],
             [
              0.1111111111111111,
              "#46039f"
             ],
             [
              0.2222222222222222,
              "#7201a8"
             ],
             [
              0.3333333333333333,
              "#9c179e"
             ],
             [
              0.4444444444444444,
              "#bd3786"
             ],
             [
              0.5555555555555556,
              "#d8576b"
             ],
             [
              0.6666666666666666,
              "#ed7953"
             ],
             [
              0.7777777777777778,
              "#fb9f3a"
             ],
             [
              0.8888888888888888,
              "#fdca26"
             ],
             [
              1,
              "#f0f921"
             ]
            ],
            "type": "contour"
           }
          ],
          "contourcarpet": [
           {
            "colorbar": {
             "outlinewidth": 0,
             "ticks": ""
            },
            "type": "contourcarpet"
           }
          ],
          "heatmap": [
           {
            "colorbar": {
             "outlinewidth": 0,
             "ticks": ""
            },
            "colorscale": [
             [
              0,
              "#0d0887"
             ],
             [
              0.1111111111111111,
              "#46039f"
             ],
             [
              0.2222222222222222,
              "#7201a8"
             ],
             [
              0.3333333333333333,
              "#9c179e"
             ],
             [
              0.4444444444444444,
              "#bd3786"
             ],
             [
              0.5555555555555556,
              "#d8576b"
             ],
             [
              0.6666666666666666,
              "#ed7953"
             ],
             [
              0.7777777777777778,
              "#fb9f3a"
             ],
             [
              0.8888888888888888,
              "#fdca26"
             ],
             [
              1,
              "#f0f921"
             ]
            ],
            "type": "heatmap"
           }
          ],
          "heatmapgl": [
           {
            "colorbar": {
             "outlinewidth": 0,
             "ticks": ""
            },
            "colorscale": [
             [
              0,
              "#0d0887"
             ],
             [
              0.1111111111111111,
              "#46039f"
             ],
             [
              0.2222222222222222,
              "#7201a8"
             ],
             [
              0.3333333333333333,
              "#9c179e"
             ],
             [
              0.4444444444444444,
              "#bd3786"
             ],
             [
              0.5555555555555556,
              "#d8576b"
             ],
             [
              0.6666666666666666,
              "#ed7953"
             ],
             [
              0.7777777777777778,
              "#fb9f3a"
             ],
             [
              0.8888888888888888,
              "#fdca26"
             ],
             [
              1,
              "#f0f921"
             ]
            ],
            "type": "heatmapgl"
           }
          ],
          "histogram": [
           {
            "marker": {
             "pattern": {
              "fillmode": "overlay",
              "size": 10,
              "solidity": 0.2
             }
            },
            "type": "histogram"
           }
          ],
          "histogram2d": [
           {
            "colorbar": {
             "outlinewidth": 0,
             "ticks": ""
            },
            "colorscale": [
             [
              0,
              "#0d0887"
             ],
             [
              0.1111111111111111,
              "#46039f"
             ],
             [
              0.2222222222222222,
              "#7201a8"
             ],
             [
              0.3333333333333333,
              "#9c179e"
             ],
             [
              0.4444444444444444,
              "#bd3786"
             ],
             [
              0.5555555555555556,
              "#d8576b"
             ],
             [
              0.6666666666666666,
              "#ed7953"
             ],
             [
              0.7777777777777778,
              "#fb9f3a"
             ],
             [
              0.8888888888888888,
              "#fdca26"
             ],
             [
              1,
              "#f0f921"
             ]
            ],
            "type": "histogram2d"
           }
          ],
          "histogram2dcontour": [
           {
            "colorbar": {
             "outlinewidth": 0,
             "ticks": ""
            },
            "colorscale": [
             [
              0,
              "#0d0887"
             ],
             [
              0.1111111111111111,
              "#46039f"
             ],
             [
              0.2222222222222222,
              "#7201a8"
             ],
             [
              0.3333333333333333,
              "#9c179e"
             ],
             [
              0.4444444444444444,
              "#bd3786"
             ],
             [
              0.5555555555555556,
              "#d8576b"
             ],
             [
              0.6666666666666666,
              "#ed7953"
             ],
             [
              0.7777777777777778,
              "#fb9f3a"
             ],
             [
              0.8888888888888888,
              "#fdca26"
             ],
             [
              1,
              "#f0f921"
             ]
            ],
            "type": "histogram2dcontour"
           }
          ],
          "mesh3d": [
           {
            "colorbar": {
             "outlinewidth": 0,
             "ticks": ""
            },
            "type": "mesh3d"
           }
          ],
          "parcoords": [
           {
            "line": {
             "colorbar": {
              "outlinewidth": 0,
              "ticks": ""
             }
            },
            "type": "parcoords"
           }
          ],
          "pie": [
           {
            "automargin": true,
            "type": "pie"
           }
          ],
          "scatter": [
           {
            "fillpattern": {
             "fillmode": "overlay",
             "size": 10,
             "solidity": 0.2
            },
            "type": "scatter"
           }
          ],
          "scatter3d": [
           {
            "line": {
             "colorbar": {
              "outlinewidth": 0,
              "ticks": ""
             }
            },
            "marker": {
             "colorbar": {
              "outlinewidth": 0,
              "ticks": ""
             }
            },
            "type": "scatter3d"
           }
          ],
          "scattercarpet": [
           {
            "marker": {
             "colorbar": {
              "outlinewidth": 0,
              "ticks": ""
             }
            },
            "type": "scattercarpet"
           }
          ],
          "scattergeo": [
           {
            "marker": {
             "colorbar": {
              "outlinewidth": 0,
              "ticks": ""
             }
            },
            "type": "scattergeo"
           }
          ],
          "scattergl": [
           {
            "marker": {
             "colorbar": {
              "outlinewidth": 0,
              "ticks": ""
             }
            },
            "type": "scattergl"
           }
          ],
          "scattermapbox": [
           {
            "marker": {
             "colorbar": {
              "outlinewidth": 0,
              "ticks": ""
             }
            },
            "type": "scattermapbox"
           }
          ],
          "scatterpolar": [
           {
            "marker": {
             "colorbar": {
              "outlinewidth": 0,
              "ticks": ""
             }
            },
            "type": "scatterpolar"
           }
          ],
          "scatterpolargl": [
           {
            "marker": {
             "colorbar": {
              "outlinewidth": 0,
              "ticks": ""
             }
            },
            "type": "scatterpolargl"
           }
          ],
          "scatterternary": [
           {
            "marker": {
             "colorbar": {
              "outlinewidth": 0,
              "ticks": ""
             }
            },
            "type": "scatterternary"
           }
          ],
          "surface": [
           {
            "colorbar": {
             "outlinewidth": 0,
             "ticks": ""
            },
            "colorscale": [
             [
              0,
              "#0d0887"
             ],
             [
              0.1111111111111111,
              "#46039f"
             ],
             [
              0.2222222222222222,
              "#7201a8"
             ],
             [
              0.3333333333333333,
              "#9c179e"
             ],
             [
              0.4444444444444444,
              "#bd3786"
             ],
             [
              0.5555555555555556,
              "#d8576b"
             ],
             [
              0.6666666666666666,
              "#ed7953"
             ],
             [
              0.7777777777777778,
              "#fb9f3a"
             ],
             [
              0.8888888888888888,
              "#fdca26"
             ],
             [
              1,
              "#f0f921"
             ]
            ],
            "type": "surface"
           }
          ],
          "table": [
           {
            "cells": {
             "fill": {
              "color": "#EBF0F8"
             },
             "line": {
              "color": "white"
             }
            },
            "header": {
             "fill": {
              "color": "#C8D4E3"
             },
             "line": {
              "color": "white"
             }
            },
            "type": "table"
           }
          ]
         },
         "layout": {
          "annotationdefaults": {
           "arrowcolor": "#2a3f5f",
           "arrowhead": 0,
           "arrowwidth": 1
          },
          "autotypenumbers": "strict",
          "coloraxis": {
           "colorbar": {
            "outlinewidth": 0,
            "ticks": ""
           }
          },
          "colorscale": {
           "diverging": [
            [
             0,
             "#8e0152"
            ],
            [
             0.1,
             "#c51b7d"
            ],
            [
             0.2,
             "#de77ae"
            ],
            [
             0.3,
             "#f1b6da"
            ],
            [
             0.4,
             "#fde0ef"
            ],
            [
             0.5,
             "#f7f7f7"
            ],
            [
             0.6,
             "#e6f5d0"
            ],
            [
             0.7,
             "#b8e186"
            ],
            [
             0.8,
             "#7fbc41"
            ],
            [
             0.9,
             "#4d9221"
            ],
            [
             1,
             "#276419"
            ]
           ],
           "sequential": [
            [
             0,
             "#0d0887"
            ],
            [
             0.1111111111111111,
             "#46039f"
            ],
            [
             0.2222222222222222,
             "#7201a8"
            ],
            [
             0.3333333333333333,
             "#9c179e"
            ],
            [
             0.4444444444444444,
             "#bd3786"
            ],
            [
             0.5555555555555556,
             "#d8576b"
            ],
            [
             0.6666666666666666,
             "#ed7953"
            ],
            [
             0.7777777777777778,
             "#fb9f3a"
            ],
            [
             0.8888888888888888,
             "#fdca26"
            ],
            [
             1,
             "#f0f921"
            ]
           ],
           "sequentialminus": [
            [
             0,
             "#0d0887"
            ],
            [
             0.1111111111111111,
             "#46039f"
            ],
            [
             0.2222222222222222,
             "#7201a8"
            ],
            [
             0.3333333333333333,
             "#9c179e"
            ],
            [
             0.4444444444444444,
             "#bd3786"
            ],
            [
             0.5555555555555556,
             "#d8576b"
            ],
            [
             0.6666666666666666,
             "#ed7953"
            ],
            [
             0.7777777777777778,
             "#fb9f3a"
            ],
            [
             0.8888888888888888,
             "#fdca26"
            ],
            [
             1,
             "#f0f921"
            ]
           ]
          },
          "colorway": [
           "#636efa",
           "#EF553B",
           "#00cc96",
           "#ab63fa",
           "#FFA15A",
           "#19d3f3",
           "#FF6692",
           "#B6E880",
           "#FF97FF",
           "#FECB52"
          ],
          "font": {
           "color": "#2a3f5f"
          },
          "geo": {
           "bgcolor": "white",
           "lakecolor": "white",
           "landcolor": "#E5ECF6",
           "showlakes": true,
           "showland": true,
           "subunitcolor": "white"
          },
          "hoverlabel": {
           "align": "left"
          },
          "hovermode": "closest",
          "mapbox": {
           "style": "light"
          },
          "paper_bgcolor": "white",
          "plot_bgcolor": "#E5ECF6",
          "polar": {
           "angularaxis": {
            "gridcolor": "white",
            "linecolor": "white",
            "ticks": ""
           },
           "bgcolor": "#E5ECF6",
           "radialaxis": {
            "gridcolor": "white",
            "linecolor": "white",
            "ticks": ""
           }
          },
          "scene": {
           "xaxis": {
            "backgroundcolor": "#E5ECF6",
            "gridcolor": "white",
            "gridwidth": 2,
            "linecolor": "white",
            "showbackground": true,
            "ticks": "",
            "zerolinecolor": "white"
           },
           "yaxis": {
            "backgroundcolor": "#E5ECF6",
            "gridcolor": "white",
            "gridwidth": 2,
            "linecolor": "white",
            "showbackground": true,
            "ticks": "",
            "zerolinecolor": "white"
           },
           "zaxis": {
            "backgroundcolor": "#E5ECF6",
            "gridcolor": "white",
            "gridwidth": 2,
            "linecolor": "white",
            "showbackground": true,
            "ticks": "",
            "zerolinecolor": "white"
           }
          },
          "shapedefaults": {
           "line": {
            "color": "#2a3f5f"
           }
          },
          "ternary": {
           "aaxis": {
            "gridcolor": "white",
            "linecolor": "white",
            "ticks": ""
           },
           "baxis": {
            "gridcolor": "white",
            "linecolor": "white",
            "ticks": ""
           },
           "bgcolor": "#E5ECF6",
           "caxis": {
            "gridcolor": "white",
            "linecolor": "white",
            "ticks": ""
           }
          },
          "title": {
           "x": 0.05
          },
          "xaxis": {
           "automargin": true,
           "gridcolor": "white",
           "linecolor": "white",
           "ticks": "",
           "title": {
            "standoff": 15
           },
           "zerolinecolor": "white",
           "zerolinewidth": 2
          },
          "yaxis": {
           "automargin": true,
           "gridcolor": "white",
           "linecolor": "white",
           "ticks": "",
           "title": {
            "standoff": 15
           },
           "zerolinecolor": "white",
           "zerolinewidth": 2
          }
         }
        },
        "xaxis": {
         "anchor": "y",
         "domain": [
          0,
          0.94
         ],
         "title": {
          "text": "Date"
         }
        },
        "yaxis": {
         "anchor": "x",
         "domain": [
          0,
          1
         ],
         "title": {
          "text": "Monthly PnL"
         }
        },
        "yaxis2": {
         "anchor": "x",
         "overlaying": "y",
         "side": "right"
        }
       }
      }
     },
     "metadata": {},
     "output_type": "display_data"
    }
   ],
   "source": [
    "fig = make_subplots(specs=[[{\"secondary_y\": True}]])\n",
    "\n",
    "fig.add_trace(go.Bar(x=monthly_df.index,\n",
    "                     y=monthly_df[\"net_pnl\"],\n",
    "                     text=round(monthly_df[\"net_pnl\"], 0),\n",
    "\n",
    "                     ), secondary_y=False)\n",
    "\n",
    "# add a line chart as the second trace with different axis\n",
    "fig.add_trace(go.Scatter(x=monthly_df.index,\n",
    "              y=monthly_df[\"cum_pnl\"]), secondary_y=True)\n",
    "\n",
    "\n",
    "fig.update_layout(\n",
    "    xaxis_title=\"Date\",\n",
    "    yaxis_title=\"Monthly PnL\",\n",
    "\n",
    "\n",
    "    legend_orientation=\"h\",\n",
    "    legend_yanchor=\"bottom\",\n",
    "    legend_xanchor=\"auto\",\n",
    ")\n",
    "\n",
    "\n",
    "fig.show()"
   ]
  },
  {
   "cell_type": "code",
   "execution_count": 26,
   "metadata": {},
   "outputs": [
    {
     "data": {
      "application/vnd.plotly.v1+json": {
       "config": {
        "plotlyServerURL": "https://plot.ly"
       },
       "data": [
        {
         "marker": {
          "color": []
         },
         "text": [
          -309,
          661,
          -562,
          -338,
          1443,
          -899,
          -1595,
          -184,
          -1631,
          -3754,
          786,
          -938,
          1104,
          -1252,
          -815,
          -1519,
          909,
          7,
          236,
          208,
          -212,
          -2461,
          -272,
          -1439,
          2360,
          1320,
          1405
         ],
         "type": "bar",
         "x": [
          "2022-02-28T00:00:00",
          "2022-03-31T00:00:00",
          "2022-04-30T00:00:00",
          "2022-05-31T00:00:00",
          "2022-06-30T00:00:00",
          "2022-07-31T00:00:00",
          "2022-08-31T00:00:00",
          "2022-09-30T00:00:00",
          "2022-10-31T00:00:00",
          "2022-11-30T00:00:00",
          "2022-12-31T00:00:00",
          "2023-01-31T00:00:00",
          "2023-02-28T00:00:00",
          "2023-03-31T00:00:00",
          "2023-04-30T00:00:00",
          "2023-05-31T00:00:00",
          "2023-06-30T00:00:00",
          "2023-07-31T00:00:00",
          "2023-08-31T00:00:00",
          "2023-09-30T00:00:00",
          "2023-10-31T00:00:00",
          "2023-11-30T00:00:00",
          "2023-12-31T00:00:00",
          "2024-01-31T00:00:00",
          "2024-02-29T00:00:00",
          "2024-03-31T00:00:00",
          "2024-04-30T00:00:00"
         ],
         "y": [
          -308.74,
          661.1899999999999,
          -561.6800000000001,
          -337.80999999999995,
          1443.11,
          -898.8,
          -1595.03,
          -184.17000000000002,
          -1631.4299999999998,
          -3753.81,
          785.8999999999999,
          -937.77,
          1103.6100000000001,
          -1252.11,
          -814.78,
          -1519.07,
          909.4399999999999,
          6.839999999999968,
          235.54,
          207.73000000000002,
          -211.64000000000004,
          -2460.7000000000003,
          -272.41,
          -1439.1399999999999,
          2359.82,
          1319.8100000000002,
          1404.9999999999998
         ]
        }
       ],
       "layout": {
        "legend": {
         "orientation": "h",
         "xanchor": "auto",
         "yanchor": "bottom"
        },
        "template": {
         "data": {
          "bar": [
           {
            "error_x": {
             "color": "#2a3f5f"
            },
            "error_y": {
             "color": "#2a3f5f"
            },
            "marker": {
             "line": {
              "color": "#E5ECF6",
              "width": 0.5
             },
             "pattern": {
              "fillmode": "overlay",
              "size": 10,
              "solidity": 0.2
             }
            },
            "type": "bar"
           }
          ],
          "barpolar": [
           {
            "marker": {
             "line": {
              "color": "#E5ECF6",
              "width": 0.5
             },
             "pattern": {
              "fillmode": "overlay",
              "size": 10,
              "solidity": 0.2
             }
            },
            "type": "barpolar"
           }
          ],
          "carpet": [
           {
            "aaxis": {
             "endlinecolor": "#2a3f5f",
             "gridcolor": "white",
             "linecolor": "white",
             "minorgridcolor": "white",
             "startlinecolor": "#2a3f5f"
            },
            "baxis": {
             "endlinecolor": "#2a3f5f",
             "gridcolor": "white",
             "linecolor": "white",
             "minorgridcolor": "white",
             "startlinecolor": "#2a3f5f"
            },
            "type": "carpet"
           }
          ],
          "choropleth": [
           {
            "colorbar": {
             "outlinewidth": 0,
             "ticks": ""
            },
            "type": "choropleth"
           }
          ],
          "contour": [
           {
            "colorbar": {
             "outlinewidth": 0,
             "ticks": ""
            },
            "colorscale": [
             [
              0,
              "#0d0887"
             ],
             [
              0.1111111111111111,
              "#46039f"
             ],
             [
              0.2222222222222222,
              "#7201a8"
             ],
             [
              0.3333333333333333,
              "#9c179e"
             ],
             [
              0.4444444444444444,
              "#bd3786"
             ],
             [
              0.5555555555555556,
              "#d8576b"
             ],
             [
              0.6666666666666666,
              "#ed7953"
             ],
             [
              0.7777777777777778,
              "#fb9f3a"
             ],
             [
              0.8888888888888888,
              "#fdca26"
             ],
             [
              1,
              "#f0f921"
             ]
            ],
            "type": "contour"
           }
          ],
          "contourcarpet": [
           {
            "colorbar": {
             "outlinewidth": 0,
             "ticks": ""
            },
            "type": "contourcarpet"
           }
          ],
          "heatmap": [
           {
            "colorbar": {
             "outlinewidth": 0,
             "ticks": ""
            },
            "colorscale": [
             [
              0,
              "#0d0887"
             ],
             [
              0.1111111111111111,
              "#46039f"
             ],
             [
              0.2222222222222222,
              "#7201a8"
             ],
             [
              0.3333333333333333,
              "#9c179e"
             ],
             [
              0.4444444444444444,
              "#bd3786"
             ],
             [
              0.5555555555555556,
              "#d8576b"
             ],
             [
              0.6666666666666666,
              "#ed7953"
             ],
             [
              0.7777777777777778,
              "#fb9f3a"
             ],
             [
              0.8888888888888888,
              "#fdca26"
             ],
             [
              1,
              "#f0f921"
             ]
            ],
            "type": "heatmap"
           }
          ],
          "heatmapgl": [
           {
            "colorbar": {
             "outlinewidth": 0,
             "ticks": ""
            },
            "colorscale": [
             [
              0,
              "#0d0887"
             ],
             [
              0.1111111111111111,
              "#46039f"
             ],
             [
              0.2222222222222222,
              "#7201a8"
             ],
             [
              0.3333333333333333,
              "#9c179e"
             ],
             [
              0.4444444444444444,
              "#bd3786"
             ],
             [
              0.5555555555555556,
              "#d8576b"
             ],
             [
              0.6666666666666666,
              "#ed7953"
             ],
             [
              0.7777777777777778,
              "#fb9f3a"
             ],
             [
              0.8888888888888888,
              "#fdca26"
             ],
             [
              1,
              "#f0f921"
             ]
            ],
            "type": "heatmapgl"
           }
          ],
          "histogram": [
           {
            "marker": {
             "pattern": {
              "fillmode": "overlay",
              "size": 10,
              "solidity": 0.2
             }
            },
            "type": "histogram"
           }
          ],
          "histogram2d": [
           {
            "colorbar": {
             "outlinewidth": 0,
             "ticks": ""
            },
            "colorscale": [
             [
              0,
              "#0d0887"
             ],
             [
              0.1111111111111111,
              "#46039f"
             ],
             [
              0.2222222222222222,
              "#7201a8"
             ],
             [
              0.3333333333333333,
              "#9c179e"
             ],
             [
              0.4444444444444444,
              "#bd3786"
             ],
             [
              0.5555555555555556,
              "#d8576b"
             ],
             [
              0.6666666666666666,
              "#ed7953"
             ],
             [
              0.7777777777777778,
              "#fb9f3a"
             ],
             [
              0.8888888888888888,
              "#fdca26"
             ],
             [
              1,
              "#f0f921"
             ]
            ],
            "type": "histogram2d"
           }
          ],
          "histogram2dcontour": [
           {
            "colorbar": {
             "outlinewidth": 0,
             "ticks": ""
            },
            "colorscale": [
             [
              0,
              "#0d0887"
             ],
             [
              0.1111111111111111,
              "#46039f"
             ],
             [
              0.2222222222222222,
              "#7201a8"
             ],
             [
              0.3333333333333333,
              "#9c179e"
             ],
             [
              0.4444444444444444,
              "#bd3786"
             ],
             [
              0.5555555555555556,
              "#d8576b"
             ],
             [
              0.6666666666666666,
              "#ed7953"
             ],
             [
              0.7777777777777778,
              "#fb9f3a"
             ],
             [
              0.8888888888888888,
              "#fdca26"
             ],
             [
              1,
              "#f0f921"
             ]
            ],
            "type": "histogram2dcontour"
           }
          ],
          "mesh3d": [
           {
            "colorbar": {
             "outlinewidth": 0,
             "ticks": ""
            },
            "type": "mesh3d"
           }
          ],
          "parcoords": [
           {
            "line": {
             "colorbar": {
              "outlinewidth": 0,
              "ticks": ""
             }
            },
            "type": "parcoords"
           }
          ],
          "pie": [
           {
            "automargin": true,
            "type": "pie"
           }
          ],
          "scatter": [
           {
            "fillpattern": {
             "fillmode": "overlay",
             "size": 10,
             "solidity": 0.2
            },
            "type": "scatter"
           }
          ],
          "scatter3d": [
           {
            "line": {
             "colorbar": {
              "outlinewidth": 0,
              "ticks": ""
             }
            },
            "marker": {
             "colorbar": {
              "outlinewidth": 0,
              "ticks": ""
             }
            },
            "type": "scatter3d"
           }
          ],
          "scattercarpet": [
           {
            "marker": {
             "colorbar": {
              "outlinewidth": 0,
              "ticks": ""
             }
            },
            "type": "scattercarpet"
           }
          ],
          "scattergeo": [
           {
            "marker": {
             "colorbar": {
              "outlinewidth": 0,
              "ticks": ""
             }
            },
            "type": "scattergeo"
           }
          ],
          "scattergl": [
           {
            "marker": {
             "colorbar": {
              "outlinewidth": 0,
              "ticks": ""
             }
            },
            "type": "scattergl"
           }
          ],
          "scattermapbox": [
           {
            "marker": {
             "colorbar": {
              "outlinewidth": 0,
              "ticks": ""
             }
            },
            "type": "scattermapbox"
           }
          ],
          "scatterpolar": [
           {
            "marker": {
             "colorbar": {
              "outlinewidth": 0,
              "ticks": ""
             }
            },
            "type": "scatterpolar"
           }
          ],
          "scatterpolargl": [
           {
            "marker": {
             "colorbar": {
              "outlinewidth": 0,
              "ticks": ""
             }
            },
            "type": "scatterpolargl"
           }
          ],
          "scatterternary": [
           {
            "marker": {
             "colorbar": {
              "outlinewidth": 0,
              "ticks": ""
             }
            },
            "type": "scatterternary"
           }
          ],
          "surface": [
           {
            "colorbar": {
             "outlinewidth": 0,
             "ticks": ""
            },
            "colorscale": [
             [
              0,
              "#0d0887"
             ],
             [
              0.1111111111111111,
              "#46039f"
             ],
             [
              0.2222222222222222,
              "#7201a8"
             ],
             [
              0.3333333333333333,
              "#9c179e"
             ],
             [
              0.4444444444444444,
              "#bd3786"
             ],
             [
              0.5555555555555556,
              "#d8576b"
             ],
             [
              0.6666666666666666,
              "#ed7953"
             ],
             [
              0.7777777777777778,
              "#fb9f3a"
             ],
             [
              0.8888888888888888,
              "#fdca26"
             ],
             [
              1,
              "#f0f921"
             ]
            ],
            "type": "surface"
           }
          ],
          "table": [
           {
            "cells": {
             "fill": {
              "color": "#EBF0F8"
             },
             "line": {
              "color": "white"
             }
            },
            "header": {
             "fill": {
              "color": "#C8D4E3"
             },
             "line": {
              "color": "white"
             }
            },
            "type": "table"
           }
          ]
         },
         "layout": {
          "annotationdefaults": {
           "arrowcolor": "#2a3f5f",
           "arrowhead": 0,
           "arrowwidth": 1
          },
          "autotypenumbers": "strict",
          "coloraxis": {
           "colorbar": {
            "outlinewidth": 0,
            "ticks": ""
           }
          },
          "colorscale": {
           "diverging": [
            [
             0,
             "#8e0152"
            ],
            [
             0.1,
             "#c51b7d"
            ],
            [
             0.2,
             "#de77ae"
            ],
            [
             0.3,
             "#f1b6da"
            ],
            [
             0.4,
             "#fde0ef"
            ],
            [
             0.5,
             "#f7f7f7"
            ],
            [
             0.6,
             "#e6f5d0"
            ],
            [
             0.7,
             "#b8e186"
            ],
            [
             0.8,
             "#7fbc41"
            ],
            [
             0.9,
             "#4d9221"
            ],
            [
             1,
             "#276419"
            ]
           ],
           "sequential": [
            [
             0,
             "#0d0887"
            ],
            [
             0.1111111111111111,
             "#46039f"
            ],
            [
             0.2222222222222222,
             "#7201a8"
            ],
            [
             0.3333333333333333,
             "#9c179e"
            ],
            [
             0.4444444444444444,
             "#bd3786"
            ],
            [
             0.5555555555555556,
             "#d8576b"
            ],
            [
             0.6666666666666666,
             "#ed7953"
            ],
            [
             0.7777777777777778,
             "#fb9f3a"
            ],
            [
             0.8888888888888888,
             "#fdca26"
            ],
            [
             1,
             "#f0f921"
            ]
           ],
           "sequentialminus": [
            [
             0,
             "#0d0887"
            ],
            [
             0.1111111111111111,
             "#46039f"
            ],
            [
             0.2222222222222222,
             "#7201a8"
            ],
            [
             0.3333333333333333,
             "#9c179e"
            ],
            [
             0.4444444444444444,
             "#bd3786"
            ],
            [
             0.5555555555555556,
             "#d8576b"
            ],
            [
             0.6666666666666666,
             "#ed7953"
            ],
            [
             0.7777777777777778,
             "#fb9f3a"
            ],
            [
             0.8888888888888888,
             "#fdca26"
            ],
            [
             1,
             "#f0f921"
            ]
           ]
          },
          "colorway": [
           "#636efa",
           "#EF553B",
           "#00cc96",
           "#ab63fa",
           "#FFA15A",
           "#19d3f3",
           "#FF6692",
           "#B6E880",
           "#FF97FF",
           "#FECB52"
          ],
          "font": {
           "color": "#2a3f5f"
          },
          "geo": {
           "bgcolor": "white",
           "lakecolor": "white",
           "landcolor": "#E5ECF6",
           "showlakes": true,
           "showland": true,
           "subunitcolor": "white"
          },
          "hoverlabel": {
           "align": "left"
          },
          "hovermode": "closest",
          "mapbox": {
           "style": "light"
          },
          "paper_bgcolor": "white",
          "plot_bgcolor": "#E5ECF6",
          "polar": {
           "angularaxis": {
            "gridcolor": "white",
            "linecolor": "white",
            "ticks": ""
           },
           "bgcolor": "#E5ECF6",
           "radialaxis": {
            "gridcolor": "white",
            "linecolor": "white",
            "ticks": ""
           }
          },
          "scene": {
           "xaxis": {
            "backgroundcolor": "#E5ECF6",
            "gridcolor": "white",
            "gridwidth": 2,
            "linecolor": "white",
            "showbackground": true,
            "ticks": "",
            "zerolinecolor": "white"
           },
           "yaxis": {
            "backgroundcolor": "#E5ECF6",
            "gridcolor": "white",
            "gridwidth": 2,
            "linecolor": "white",
            "showbackground": true,
            "ticks": "",
            "zerolinecolor": "white"
           },
           "zaxis": {
            "backgroundcolor": "#E5ECF6",
            "gridcolor": "white",
            "gridwidth": 2,
            "linecolor": "white",
            "showbackground": true,
            "ticks": "",
            "zerolinecolor": "white"
           }
          },
          "shapedefaults": {
           "line": {
            "color": "#2a3f5f"
           }
          },
          "ternary": {
           "aaxis": {
            "gridcolor": "white",
            "linecolor": "white",
            "ticks": ""
           },
           "baxis": {
            "gridcolor": "white",
            "linecolor": "white",
            "ticks": ""
           },
           "bgcolor": "#E5ECF6",
           "caxis": {
            "gridcolor": "white",
            "linecolor": "white",
            "ticks": ""
           }
          },
          "title": {
           "x": 0.05
          },
          "xaxis": {
           "automargin": true,
           "gridcolor": "white",
           "linecolor": "white",
           "ticks": "",
           "title": {
            "standoff": 15
           },
           "zerolinecolor": "white",
           "zerolinewidth": 2
          },
          "yaxis": {
           "automargin": true,
           "gridcolor": "white",
           "linecolor": "white",
           "ticks": "",
           "title": {
            "standoff": 15
           },
           "zerolinecolor": "white",
           "zerolinewidth": 2
          }
         }
        },
        "xaxis": {
         "title": {
          "text": "Date"
         }
        },
        "yaxis": {
         "title": {
          "text": "Monthly PnL"
         }
        }
       }
      }
     },
     "metadata": {},
     "output_type": "display_data"
    }
   ],
   "source": [
    "fig = go.Figure()\n",
    "\n",
    "fig.add_trace(go.Bar(x=monthly_df.index,\n",
    "                     y=monthly_df[\"net_pnl\"],\n",
    "                     text=round(monthly_df[\"net_pnl\"], 0),\n",
    "                    marker_color= []\n",
    "                     ))\n",
    "\n",
    "\n",
    "\n",
    "\n",
    "fig.update_layout(\n",
    "    xaxis_title=\"Date\",\n",
    "    yaxis_title=\"Monthly PnL\",\n",
    "\n",
    "\n",
    "    legend_orientation=\"h\",\n",
    "    legend_yanchor=\"bottom\",\n",
    "    legend_xanchor=\"auto\",\n",
    ")\n",
    "\n",
    "\n",
    "fig.show()"
   ]
  },
  {
   "cell_type": "code",
   "execution_count": 27,
   "metadata": {},
   "outputs": [],
   "source": [
    "options = ['INTRADAY_GAP_UP', 'SWING_STOCHASTIC_RSI']"
   ]
  },
  {
   "cell_type": "code",
   "execution_count": 28,
   "metadata": {},
   "outputs": [
    {
     "data": {
      "text/html": [
       "<div>\n",
       "<style scoped>\n",
       "    .dataframe tbody tr th:only-of-type {\n",
       "        vertical-align: middle;\n",
       "    }\n",
       "\n",
       "    .dataframe tbody tr th {\n",
       "        vertical-align: top;\n",
       "    }\n",
       "\n",
       "    .dataframe thead th {\n",
       "        text-align: right;\n",
       "    }\n",
       "</style>\n",
       "<table border=\"1\" class=\"dataframe\">\n",
       "  <thead>\n",
       "    <tr style=\"text-align: right;\">\n",
       "      <th></th>\n",
       "      <th>brokerage</th>\n",
       "      <th>buy_time</th>\n",
       "      <th>buy_value</th>\n",
       "      <th>date</th>\n",
       "      <th>net_pnl</th>\n",
       "      <th>pnl</th>\n",
       "      <th>sell_time</th>\n",
       "      <th>sell_value</th>\n",
       "      <th>strategy</th>\n",
       "      <th>symbol</th>\n",
       "      <th>tax</th>\n",
       "      <th>traded_qty</th>\n",
       "    </tr>\n",
       "  </thead>\n",
       "  <tbody>\n",
       "    <tr>\n",
       "      <th>1</th>\n",
       "      <td>0.0</td>\n",
       "      <td>09:15:49</td>\n",
       "      <td>4946.40</td>\n",
       "      <td>2024-01-10</td>\n",
       "      <td>-118.76</td>\n",
       "      <td>-117.0</td>\n",
       "      <td>12:06:07</td>\n",
       "      <td>4829.40</td>\n",
       "      <td>SWING_STOCHASTIC_RSI</td>\n",
       "      <td>GRANULES</td>\n",
       "      <td>1.76</td>\n",
       "      <td>12</td>\n",
       "    </tr>\n",
       "    <tr>\n",
       "      <th>2</th>\n",
       "      <td>0.0</td>\n",
       "      <td>09:15:27</td>\n",
       "      <td>4979.70</td>\n",
       "      <td>2024-01-11</td>\n",
       "      <td>16.88</td>\n",
       "      <td>18.7</td>\n",
       "      <td>15:10:24</td>\n",
       "      <td>4998.40</td>\n",
       "      <td>SWING_STOCHASTIC_RSI</td>\n",
       "      <td>CANBK</td>\n",
       "      <td>1.82</td>\n",
       "      <td>11</td>\n",
       "    </tr>\n",
       "    <tr>\n",
       "      <th>3</th>\n",
       "      <td>0.0</td>\n",
       "      <td>09:37:14</td>\n",
       "      <td>4617.60</td>\n",
       "      <td>2024-01-11</td>\n",
       "      <td>-45.77</td>\n",
       "      <td>-44.1</td>\n",
       "      <td>15:10:24</td>\n",
       "      <td>4573.50</td>\n",
       "      <td>SWING_STOCHASTIC_RSI</td>\n",
       "      <td>SBICARD</td>\n",
       "      <td>1.67</td>\n",
       "      <td>6</td>\n",
       "    </tr>\n",
       "    <tr>\n",
       "      <th>4</th>\n",
       "      <td>0.0</td>\n",
       "      <td>09:15:55</td>\n",
       "      <td>4960.80</td>\n",
       "      <td>2024-01-11</td>\n",
       "      <td>-27.80</td>\n",
       "      <td>-26.0</td>\n",
       "      <td>15:10:24</td>\n",
       "      <td>4934.80</td>\n",
       "      <td>SWING_STOCHASTIC_RSI</td>\n",
       "      <td>PNB</td>\n",
       "      <td>1.80</td>\n",
       "      <td>52</td>\n",
       "    </tr>\n",
       "    <tr>\n",
       "      <th>5</th>\n",
       "      <td>0.0</td>\n",
       "      <td>09:16:01</td>\n",
       "      <td>3373.40</td>\n",
       "      <td>2024-01-11</td>\n",
       "      <td>-54.01</td>\n",
       "      <td>-52.8</td>\n",
       "      <td>14:22:39</td>\n",
       "      <td>3320.60</td>\n",
       "      <td>SWING_STOCHASTIC_RSI</td>\n",
       "      <td>BAJAJFINSV</td>\n",
       "      <td>1.21</td>\n",
       "      <td>2</td>\n",
       "    </tr>\n",
       "    <tr>\n",
       "      <th>...</th>\n",
       "      <td>...</td>\n",
       "      <td>...</td>\n",
       "      <td>...</td>\n",
       "      <td>...</td>\n",
       "      <td>...</td>\n",
       "      <td>...</td>\n",
       "      <td>...</td>\n",
       "      <td>...</td>\n",
       "      <td>...</td>\n",
       "      <td>...</td>\n",
       "      <td>...</td>\n",
       "      <td>...</td>\n",
       "    </tr>\n",
       "    <tr>\n",
       "      <th>2453</th>\n",
       "      <td>0.0</td>\n",
       "      <td>15:10:40</td>\n",
       "      <td>6920.00</td>\n",
       "      <td>2023-01-27</td>\n",
       "      <td>-23.51</td>\n",
       "      <td>-21.0</td>\n",
       "      <td>10:15:18</td>\n",
       "      <td>6899.00</td>\n",
       "      <td>INTRADAY_GAP_UP</td>\n",
       "      <td>ITC</td>\n",
       "      <td>2.51</td>\n",
       "      <td>20</td>\n",
       "    </tr>\n",
       "    <tr>\n",
       "      <th>2454</th>\n",
       "      <td>0.0</td>\n",
       "      <td>10:30:28</td>\n",
       "      <td>6711.75</td>\n",
       "      <td>2023-01-27</td>\n",
       "      <td>-47.43</td>\n",
       "      <td>-45.0</td>\n",
       "      <td>10:15:18</td>\n",
       "      <td>6666.75</td>\n",
       "      <td>INTRADAY_GAP_UP</td>\n",
       "      <td>TATAMOTORS</td>\n",
       "      <td>2.43</td>\n",
       "      <td>15</td>\n",
       "    </tr>\n",
       "    <tr>\n",
       "      <th>2460</th>\n",
       "      <td>0.0</td>\n",
       "      <td>15:10:40</td>\n",
       "      <td>6855.00</td>\n",
       "      <td>2023-01-31</td>\n",
       "      <td>33.50</td>\n",
       "      <td>36.0</td>\n",
       "      <td>10:15:19</td>\n",
       "      <td>6891.00</td>\n",
       "      <td>INTRADAY_GAP_UP</td>\n",
       "      <td>BPCL</td>\n",
       "      <td>2.50</td>\n",
       "      <td>20</td>\n",
       "    </tr>\n",
       "    <tr>\n",
       "      <th>2473</th>\n",
       "      <td>0.0</td>\n",
       "      <td>11:24:54</td>\n",
       "      <td>6561.15</td>\n",
       "      <td>2023-02-03</td>\n",
       "      <td>126.58</td>\n",
       "      <td>129.0</td>\n",
       "      <td>10:15:19</td>\n",
       "      <td>6690.15</td>\n",
       "      <td>INTRADAY_GAP_UP</td>\n",
       "      <td>INDUSINDBK</td>\n",
       "      <td>2.42</td>\n",
       "      <td>6</td>\n",
       "    </tr>\n",
       "    <tr>\n",
       "      <th>2477</th>\n",
       "      <td>0.0</td>\n",
       "      <td>13:40:43</td>\n",
       "      <td>6968.00</td>\n",
       "      <td>2023-02-03</td>\n",
       "      <td>-77.91</td>\n",
       "      <td>-75.4</td>\n",
       "      <td>10:15:19</td>\n",
       "      <td>6892.60</td>\n",
       "      <td>INTRADAY_GAP_UP</td>\n",
       "      <td>SBIN</td>\n",
       "      <td>2.51</td>\n",
       "      <td>13</td>\n",
       "    </tr>\n",
       "  </tbody>\n",
       "</table>\n",
       "<p>727 rows × 12 columns</p>\n",
       "</div>"
      ],
      "text/plain": [
       "      brokerage  buy_time  buy_value        date  net_pnl    pnl sell_time  \\\n",
       "1           0.0  09:15:49    4946.40  2024-01-10  -118.76 -117.0  12:06:07   \n",
       "2           0.0  09:15:27    4979.70  2024-01-11    16.88   18.7  15:10:24   \n",
       "3           0.0  09:37:14    4617.60  2024-01-11   -45.77  -44.1  15:10:24   \n",
       "4           0.0  09:15:55    4960.80  2024-01-11   -27.80  -26.0  15:10:24   \n",
       "5           0.0  09:16:01    3373.40  2024-01-11   -54.01  -52.8  14:22:39   \n",
       "...         ...       ...        ...         ...      ...    ...       ...   \n",
       "2453        0.0  15:10:40    6920.00  2023-01-27   -23.51  -21.0  10:15:18   \n",
       "2454        0.0  10:30:28    6711.75  2023-01-27   -47.43  -45.0  10:15:18   \n",
       "2460        0.0  15:10:40    6855.00  2023-01-31    33.50   36.0  10:15:19   \n",
       "2473        0.0  11:24:54    6561.15  2023-02-03   126.58  129.0  10:15:19   \n",
       "2477        0.0  13:40:43    6968.00  2023-02-03   -77.91  -75.4  10:15:19   \n",
       "\n",
       "      sell_value              strategy      symbol   tax  traded_qty  \n",
       "1        4829.40  SWING_STOCHASTIC_RSI    GRANULES  1.76          12  \n",
       "2        4998.40  SWING_STOCHASTIC_RSI       CANBK  1.82          11  \n",
       "3        4573.50  SWING_STOCHASTIC_RSI     SBICARD  1.67           6  \n",
       "4        4934.80  SWING_STOCHASTIC_RSI         PNB  1.80          52  \n",
       "5        3320.60  SWING_STOCHASTIC_RSI  BAJAJFINSV  1.21           2  \n",
       "...          ...                   ...         ...   ...         ...  \n",
       "2453     6899.00       INTRADAY_GAP_UP         ITC  2.51          20  \n",
       "2454     6666.75       INTRADAY_GAP_UP  TATAMOTORS  2.43          15  \n",
       "2460     6891.00       INTRADAY_GAP_UP        BPCL  2.50          20  \n",
       "2473     6690.15       INTRADAY_GAP_UP  INDUSINDBK  2.42           6  \n",
       "2477     6892.60       INTRADAY_GAP_UP        SBIN  2.51          13  \n",
       "\n",
       "[727 rows x 12 columns]"
      ]
     },
     "execution_count": 28,
     "metadata": {},
     "output_type": "execute_result"
    }
   ],
   "source": [
    "df[df[\"strategy\"].isin(options)]"
   ]
  },
  {
   "cell_type": "code",
   "execution_count": 29,
   "metadata": {},
   "outputs": [],
   "source": [
    "monthly_df=df.groupby([\"strategy\",\"date\"])[\"net_pnl\"].sum().reset_index().set_index([\"date\"])\n",
    "monthly_df.index = pd.to_datetime(monthly_df.index)\n",
    "monthly_df=monthly_df.groupby(\"strategy\").resample(\"M\").sum().drop(\"strategy\",axis=1).reset_index().set_index(\"date\")\n",
    "# monthly_df=monthly_df.reset_index()"
   ]
  },
  {
   "cell_type": "code",
   "execution_count": null,
   "metadata": {},
   "outputs": [],
   "source": []
  },
  {
   "cell_type": "code",
   "execution_count": 30,
   "metadata": {},
   "outputs": [
    {
     "data": {
      "text/html": [
       "<div>\n",
       "<style scoped>\n",
       "    .dataframe tbody tr th:only-of-type {\n",
       "        vertical-align: middle;\n",
       "    }\n",
       "\n",
       "    .dataframe tbody tr th {\n",
       "        vertical-align: top;\n",
       "    }\n",
       "\n",
       "    .dataframe thead th {\n",
       "        text-align: right;\n",
       "    }\n",
       "</style>\n",
       "<table border=\"1\" class=\"dataframe\">\n",
       "  <thead>\n",
       "    <tr style=\"text-align: right;\">\n",
       "      <th></th>\n",
       "      <th>strategy</th>\n",
       "      <th>net_pnl</th>\n",
       "    </tr>\n",
       "    <tr>\n",
       "      <th>date</th>\n",
       "      <th></th>\n",
       "      <th></th>\n",
       "    </tr>\n",
       "  </thead>\n",
       "  <tbody>\n",
       "    <tr>\n",
       "      <th>2022-10-31</th>\n",
       "      <td>INTRADAY_GAP_UP</td>\n",
       "      <td>190.65</td>\n",
       "    </tr>\n",
       "    <tr>\n",
       "      <th>2022-11-30</th>\n",
       "      <td>INTRADAY_GAP_UP</td>\n",
       "      <td>129.14</td>\n",
       "    </tr>\n",
       "    <tr>\n",
       "      <th>2022-12-31</th>\n",
       "      <td>INTRADAY_GAP_UP</td>\n",
       "      <td>102.72</td>\n",
       "    </tr>\n",
       "    <tr>\n",
       "      <th>2023-01-31</th>\n",
       "      <td>INTRADAY_GAP_UP</td>\n",
       "      <td>-280.74</td>\n",
       "    </tr>\n",
       "    <tr>\n",
       "      <th>2023-02-28</th>\n",
       "      <td>INTRADAY_GAP_UP</td>\n",
       "      <td>72.38</td>\n",
       "    </tr>\n",
       "    <tr>\n",
       "      <th>2023-03-31</th>\n",
       "      <td>INTRADAY_GAP_UP</td>\n",
       "      <td>53.17</td>\n",
       "    </tr>\n",
       "    <tr>\n",
       "      <th>2023-04-30</th>\n",
       "      <td>INTRADAY_GAP_UP</td>\n",
       "      <td>-223.08</td>\n",
       "    </tr>\n",
       "    <tr>\n",
       "      <th>2023-05-31</th>\n",
       "      <td>INTRADAY_GAP_UP</td>\n",
       "      <td>-183.05</td>\n",
       "    </tr>\n",
       "    <tr>\n",
       "      <th>2023-06-30</th>\n",
       "      <td>INTRADAY_GAP_UP</td>\n",
       "      <td>223.77</td>\n",
       "    </tr>\n",
       "    <tr>\n",
       "      <th>2023-07-31</th>\n",
       "      <td>INTRADAY_GAP_UP</td>\n",
       "      <td>192.13</td>\n",
       "    </tr>\n",
       "    <tr>\n",
       "      <th>2023-08-31</th>\n",
       "      <td>INTRADAY_GAP_UP</td>\n",
       "      <td>235.54</td>\n",
       "    </tr>\n",
       "    <tr>\n",
       "      <th>2023-09-30</th>\n",
       "      <td>INTRADAY_GAP_UP</td>\n",
       "      <td>29.82</td>\n",
       "    </tr>\n",
       "    <tr>\n",
       "      <th>2023-10-31</th>\n",
       "      <td>INTRADAY_GAP_UP</td>\n",
       "      <td>-96.46</td>\n",
       "    </tr>\n",
       "    <tr>\n",
       "      <th>2023-11-30</th>\n",
       "      <td>INTRADAY_GAP_UP</td>\n",
       "      <td>-343.86</td>\n",
       "    </tr>\n",
       "    <tr>\n",
       "      <th>2023-12-31</th>\n",
       "      <td>INTRADAY_GAP_UP</td>\n",
       "      <td>-363.31</td>\n",
       "    </tr>\n",
       "    <tr>\n",
       "      <th>2024-01-31</th>\n",
       "      <td>INTRADAY_GAP_UP</td>\n",
       "      <td>-35.20</td>\n",
       "    </tr>\n",
       "    <tr>\n",
       "      <th>2024-02-29</th>\n",
       "      <td>INTRADAY_GAP_UP</td>\n",
       "      <td>552.54</td>\n",
       "    </tr>\n",
       "    <tr>\n",
       "      <th>2024-03-31</th>\n",
       "      <td>INTRADAY_GAP_UP</td>\n",
       "      <td>390.77</td>\n",
       "    </tr>\n",
       "    <tr>\n",
       "      <th>2024-04-30</th>\n",
       "      <td>INTRADAY_GAP_UP</td>\n",
       "      <td>520.06</td>\n",
       "    </tr>\n",
       "    <tr>\n",
       "      <th>2022-02-28</th>\n",
       "      <td>MEAN_REVERSION</td>\n",
       "      <td>-308.74</td>\n",
       "    </tr>\n",
       "    <tr>\n",
       "      <th>2022-03-31</th>\n",
       "      <td>MEAN_REVERSION</td>\n",
       "      <td>661.19</td>\n",
       "    </tr>\n",
       "    <tr>\n",
       "      <th>2022-04-30</th>\n",
       "      <td>MEAN_REVERSION</td>\n",
       "      <td>-561.68</td>\n",
       "    </tr>\n",
       "    <tr>\n",
       "      <th>2022-05-31</th>\n",
       "      <td>MEAN_REVERSION</td>\n",
       "      <td>-337.81</td>\n",
       "    </tr>\n",
       "    <tr>\n",
       "      <th>2022-06-30</th>\n",
       "      <td>MEAN_REVERSION</td>\n",
       "      <td>1443.11</td>\n",
       "    </tr>\n",
       "    <tr>\n",
       "      <th>2022-07-31</th>\n",
       "      <td>MEAN_REVERSION</td>\n",
       "      <td>-898.80</td>\n",
       "    </tr>\n",
       "    <tr>\n",
       "      <th>2022-08-31</th>\n",
       "      <td>MEAN_REVERSION</td>\n",
       "      <td>-1595.03</td>\n",
       "    </tr>\n",
       "    <tr>\n",
       "      <th>2022-09-30</th>\n",
       "      <td>MEAN_REVERSION</td>\n",
       "      <td>-184.17</td>\n",
       "    </tr>\n",
       "    <tr>\n",
       "      <th>2022-10-31</th>\n",
       "      <td>MEAN_REVERSION</td>\n",
       "      <td>-1822.08</td>\n",
       "    </tr>\n",
       "    <tr>\n",
       "      <th>2022-11-30</th>\n",
       "      <td>MEAN_REVERSION</td>\n",
       "      <td>-3882.95</td>\n",
       "    </tr>\n",
       "    <tr>\n",
       "      <th>2022-12-31</th>\n",
       "      <td>MEAN_REVERSION</td>\n",
       "      <td>683.18</td>\n",
       "    </tr>\n",
       "    <tr>\n",
       "      <th>2023-01-31</th>\n",
       "      <td>MEAN_REVERSION</td>\n",
       "      <td>-657.03</td>\n",
       "    </tr>\n",
       "    <tr>\n",
       "      <th>2023-02-28</th>\n",
       "      <td>MEAN_REVERSION</td>\n",
       "      <td>1031.23</td>\n",
       "    </tr>\n",
       "    <tr>\n",
       "      <th>2023-03-31</th>\n",
       "      <td>MEAN_REVERSION</td>\n",
       "      <td>-1305.28</td>\n",
       "    </tr>\n",
       "    <tr>\n",
       "      <th>2023-04-30</th>\n",
       "      <td>MEAN_REVERSION</td>\n",
       "      <td>-591.70</td>\n",
       "    </tr>\n",
       "    <tr>\n",
       "      <th>2023-05-31</th>\n",
       "      <td>MEAN_REVERSION</td>\n",
       "      <td>-788.96</td>\n",
       "    </tr>\n",
       "    <tr>\n",
       "      <th>2023-06-30</th>\n",
       "      <td>MEAN_REVERSION</td>\n",
       "      <td>685.67</td>\n",
       "    </tr>\n",
       "    <tr>\n",
       "      <th>2023-07-31</th>\n",
       "      <td>MEAN_REVERSION</td>\n",
       "      <td>-185.29</td>\n",
       "    </tr>\n",
       "    <tr>\n",
       "      <th>2023-08-31</th>\n",
       "      <td>MEAN_REVERSION</td>\n",
       "      <td>0.00</td>\n",
       "    </tr>\n",
       "    <tr>\n",
       "      <th>2023-09-30</th>\n",
       "      <td>MEAN_REVERSION</td>\n",
       "      <td>471.53</td>\n",
       "    </tr>\n",
       "    <tr>\n",
       "      <th>2023-10-31</th>\n",
       "      <td>MEAN_REVERSION</td>\n",
       "      <td>445.69</td>\n",
       "    </tr>\n",
       "    <tr>\n",
       "      <th>2023-11-30</th>\n",
       "      <td>MEAN_REVERSION</td>\n",
       "      <td>-1852.98</td>\n",
       "    </tr>\n",
       "    <tr>\n",
       "      <th>2023-12-31</th>\n",
       "      <td>MEAN_REVERSION</td>\n",
       "      <td>276.51</td>\n",
       "    </tr>\n",
       "    <tr>\n",
       "      <th>2024-01-31</th>\n",
       "      <td>MEAN_REVERSION</td>\n",
       "      <td>-1354.57</td>\n",
       "    </tr>\n",
       "    <tr>\n",
       "      <th>2024-02-29</th>\n",
       "      <td>MEAN_REVERSION</td>\n",
       "      <td>852.06</td>\n",
       "    </tr>\n",
       "    <tr>\n",
       "      <th>2024-03-31</th>\n",
       "      <td>MEAN_REVERSION</td>\n",
       "      <td>1288.97</td>\n",
       "    </tr>\n",
       "    <tr>\n",
       "      <th>2024-04-30</th>\n",
       "      <td>MEAN_REVERSION</td>\n",
       "      <td>544.75</td>\n",
       "    </tr>\n",
       "    <tr>\n",
       "      <th>2023-05-31</th>\n",
       "      <td>SWING_STOCHASTIC_RSI</td>\n",
       "      <td>-547.06</td>\n",
       "    </tr>\n",
       "    <tr>\n",
       "      <th>2023-06-30</th>\n",
       "      <td>SWING_STOCHASTIC_RSI</td>\n",
       "      <td>0.00</td>\n",
       "    </tr>\n",
       "    <tr>\n",
       "      <th>2023-07-31</th>\n",
       "      <td>SWING_STOCHASTIC_RSI</td>\n",
       "      <td>0.00</td>\n",
       "    </tr>\n",
       "    <tr>\n",
       "      <th>2023-08-31</th>\n",
       "      <td>SWING_STOCHASTIC_RSI</td>\n",
       "      <td>0.00</td>\n",
       "    </tr>\n",
       "    <tr>\n",
       "      <th>2023-09-30</th>\n",
       "      <td>SWING_STOCHASTIC_RSI</td>\n",
       "      <td>-293.62</td>\n",
       "    </tr>\n",
       "    <tr>\n",
       "      <th>2023-10-31</th>\n",
       "      <td>SWING_STOCHASTIC_RSI</td>\n",
       "      <td>-560.87</td>\n",
       "    </tr>\n",
       "    <tr>\n",
       "      <th>2023-11-30</th>\n",
       "      <td>SWING_STOCHASTIC_RSI</td>\n",
       "      <td>-263.86</td>\n",
       "    </tr>\n",
       "    <tr>\n",
       "      <th>2023-12-31</th>\n",
       "      <td>SWING_STOCHASTIC_RSI</td>\n",
       "      <td>-185.61</td>\n",
       "    </tr>\n",
       "    <tr>\n",
       "      <th>2024-01-31</th>\n",
       "      <td>SWING_STOCHASTIC_RSI</td>\n",
       "      <td>-49.37</td>\n",
       "    </tr>\n",
       "    <tr>\n",
       "      <th>2024-02-29</th>\n",
       "      <td>SWING_STOCHASTIC_RSI</td>\n",
       "      <td>955.22</td>\n",
       "    </tr>\n",
       "    <tr>\n",
       "      <th>2024-03-31</th>\n",
       "      <td>SWING_STOCHASTIC_RSI</td>\n",
       "      <td>-359.93</td>\n",
       "    </tr>\n",
       "    <tr>\n",
       "      <th>2024-04-30</th>\n",
       "      <td>SWING_STOCHASTIC_RSI</td>\n",
       "      <td>340.19</td>\n",
       "    </tr>\n",
       "  </tbody>\n",
       "</table>\n",
       "</div>"
      ],
      "text/plain": [
       "                        strategy  net_pnl\n",
       "date                                     \n",
       "2022-10-31       INTRADAY_GAP_UP   190.65\n",
       "2022-11-30       INTRADAY_GAP_UP   129.14\n",
       "2022-12-31       INTRADAY_GAP_UP   102.72\n",
       "2023-01-31       INTRADAY_GAP_UP  -280.74\n",
       "2023-02-28       INTRADAY_GAP_UP    72.38\n",
       "2023-03-31       INTRADAY_GAP_UP    53.17\n",
       "2023-04-30       INTRADAY_GAP_UP  -223.08\n",
       "2023-05-31       INTRADAY_GAP_UP  -183.05\n",
       "2023-06-30       INTRADAY_GAP_UP   223.77\n",
       "2023-07-31       INTRADAY_GAP_UP   192.13\n",
       "2023-08-31       INTRADAY_GAP_UP   235.54\n",
       "2023-09-30       INTRADAY_GAP_UP    29.82\n",
       "2023-10-31       INTRADAY_GAP_UP   -96.46\n",
       "2023-11-30       INTRADAY_GAP_UP  -343.86\n",
       "2023-12-31       INTRADAY_GAP_UP  -363.31\n",
       "2024-01-31       INTRADAY_GAP_UP   -35.20\n",
       "2024-02-29       INTRADAY_GAP_UP   552.54\n",
       "2024-03-31       INTRADAY_GAP_UP   390.77\n",
       "2024-04-30       INTRADAY_GAP_UP   520.06\n",
       "2022-02-28        MEAN_REVERSION  -308.74\n",
       "2022-03-31        MEAN_REVERSION   661.19\n",
       "2022-04-30        MEAN_REVERSION  -561.68\n",
       "2022-05-31        MEAN_REVERSION  -337.81\n",
       "2022-06-30        MEAN_REVERSION  1443.11\n",
       "2022-07-31        MEAN_REVERSION  -898.80\n",
       "2022-08-31        MEAN_REVERSION -1595.03\n",
       "2022-09-30        MEAN_REVERSION  -184.17\n",
       "2022-10-31        MEAN_REVERSION -1822.08\n",
       "2022-11-30        MEAN_REVERSION -3882.95\n",
       "2022-12-31        MEAN_REVERSION   683.18\n",
       "2023-01-31        MEAN_REVERSION  -657.03\n",
       "2023-02-28        MEAN_REVERSION  1031.23\n",
       "2023-03-31        MEAN_REVERSION -1305.28\n",
       "2023-04-30        MEAN_REVERSION  -591.70\n",
       "2023-05-31        MEAN_REVERSION  -788.96\n",
       "2023-06-30        MEAN_REVERSION   685.67\n",
       "2023-07-31        MEAN_REVERSION  -185.29\n",
       "2023-08-31        MEAN_REVERSION     0.00\n",
       "2023-09-30        MEAN_REVERSION   471.53\n",
       "2023-10-31        MEAN_REVERSION   445.69\n",
       "2023-11-30        MEAN_REVERSION -1852.98\n",
       "2023-12-31        MEAN_REVERSION   276.51\n",
       "2024-01-31        MEAN_REVERSION -1354.57\n",
       "2024-02-29        MEAN_REVERSION   852.06\n",
       "2024-03-31        MEAN_REVERSION  1288.97\n",
       "2024-04-30        MEAN_REVERSION   544.75\n",
       "2023-05-31  SWING_STOCHASTIC_RSI  -547.06\n",
       "2023-06-30  SWING_STOCHASTIC_RSI     0.00\n",
       "2023-07-31  SWING_STOCHASTIC_RSI     0.00\n",
       "2023-08-31  SWING_STOCHASTIC_RSI     0.00\n",
       "2023-09-30  SWING_STOCHASTIC_RSI  -293.62\n",
       "2023-10-31  SWING_STOCHASTIC_RSI  -560.87\n",
       "2023-11-30  SWING_STOCHASTIC_RSI  -263.86\n",
       "2023-12-31  SWING_STOCHASTIC_RSI  -185.61\n",
       "2024-01-31  SWING_STOCHASTIC_RSI   -49.37\n",
       "2024-02-29  SWING_STOCHASTIC_RSI   955.22\n",
       "2024-03-31  SWING_STOCHASTIC_RSI  -359.93\n",
       "2024-04-30  SWING_STOCHASTIC_RSI   340.19"
      ]
     },
     "execution_count": 30,
     "metadata": {},
     "output_type": "execute_result"
    }
   ],
   "source": [
    "monthly_df"
   ]
  },
  {
   "cell_type": "code",
   "execution_count": 31,
   "metadata": {},
   "outputs": [
    {
     "data": {
      "application/vnd.plotly.v1+json": {
       "config": {
        "plotlyServerURL": "https://plot.ly"
       },
       "data": [
        {
         "alignmentgroup": "True",
         "hovertemplate": "strategy=INTRADAY_GAP_UP<br>date=%{x}<br>net_pnl=%{y}<extra></extra>",
         "legendgroup": "INTRADAY_GAP_UP",
         "marker": {
          "color": "#636efa",
          "pattern": {
           "shape": ""
          }
         },
         "name": "INTRADAY_GAP_UP",
         "offsetgroup": "INTRADAY_GAP_UP",
         "orientation": "v",
         "showlegend": true,
         "textposition": "auto",
         "type": "bar",
         "x": [
          "2022-10-31T00:00:00",
          "2022-11-30T00:00:00",
          "2022-12-31T00:00:00",
          "2023-01-31T00:00:00",
          "2023-02-28T00:00:00",
          "2023-03-31T00:00:00",
          "2023-04-30T00:00:00",
          "2023-05-31T00:00:00",
          "2023-06-30T00:00:00",
          "2023-07-31T00:00:00",
          "2023-08-31T00:00:00",
          "2023-09-30T00:00:00",
          "2023-10-31T00:00:00",
          "2023-11-30T00:00:00",
          "2023-12-31T00:00:00",
          "2024-01-31T00:00:00",
          "2024-02-29T00:00:00",
          "2024-03-31T00:00:00",
          "2024-04-30T00:00:00"
         ],
         "xaxis": "x",
         "y": [
          190.65,
          129.14000000000001,
          102.72,
          -280.74,
          72.38,
          53.16999999999997,
          -223.07999999999998,
          -183.04999999999998,
          223.77000000000004,
          192.12999999999997,
          235.54,
          29.819999999999986,
          -96.46000000000001,
          -343.86,
          -363.30999999999995,
          -35.2,
          552.5400000000001,
          390.77,
          520.0600000000001
         ],
         "yaxis": "y"
        },
        {
         "alignmentgroup": "True",
         "hovertemplate": "strategy=MEAN_REVERSION<br>date=%{x}<br>net_pnl=%{y}<extra></extra>",
         "legendgroup": "MEAN_REVERSION",
         "marker": {
          "color": "#EF553B",
          "pattern": {
           "shape": ""
          }
         },
         "name": "MEAN_REVERSION",
         "offsetgroup": "MEAN_REVERSION",
         "orientation": "v",
         "showlegend": true,
         "textposition": "auto",
         "type": "bar",
         "x": [
          "2022-02-28T00:00:00",
          "2022-03-31T00:00:00",
          "2022-04-30T00:00:00",
          "2022-05-31T00:00:00",
          "2022-06-30T00:00:00",
          "2022-07-31T00:00:00",
          "2022-08-31T00:00:00",
          "2022-09-30T00:00:00",
          "2022-10-31T00:00:00",
          "2022-11-30T00:00:00",
          "2022-12-31T00:00:00",
          "2023-01-31T00:00:00",
          "2023-02-28T00:00:00",
          "2023-03-31T00:00:00",
          "2023-04-30T00:00:00",
          "2023-05-31T00:00:00",
          "2023-06-30T00:00:00",
          "2023-07-31T00:00:00",
          "2023-08-31T00:00:00",
          "2023-09-30T00:00:00",
          "2023-10-31T00:00:00",
          "2023-11-30T00:00:00",
          "2023-12-31T00:00:00",
          "2024-01-31T00:00:00",
          "2024-02-29T00:00:00",
          "2024-03-31T00:00:00",
          "2024-04-30T00:00:00"
         ],
         "xaxis": "x",
         "y": [
          -308.74,
          661.1899999999999,
          -561.6800000000001,
          -337.80999999999995,
          1443.11,
          -898.8,
          -1595.03,
          -184.17000000000002,
          -1822.08,
          -3882.95,
          683.1799999999998,
          -657.03,
          1031.23,
          -1305.28,
          -591.7,
          -788.96,
          685.6699999999998,
          -185.29,
          0,
          471.53,
          445.69,
          -1852.9800000000002,
          276.51,
          -1354.5700000000002,
          852.0600000000001,
          1288.97,
          544.7499999999999
         ],
         "yaxis": "y"
        },
        {
         "alignmentgroup": "True",
         "hovertemplate": "strategy=SWING_STOCHASTIC_RSI<br>date=%{x}<br>net_pnl=%{y}<extra></extra>",
         "legendgroup": "SWING_STOCHASTIC_RSI",
         "marker": {
          "color": "#00cc96",
          "pattern": {
           "shape": ""
          }
         },
         "name": "SWING_STOCHASTIC_RSI",
         "offsetgroup": "SWING_STOCHASTIC_RSI",
         "orientation": "v",
         "showlegend": true,
         "textposition": "auto",
         "type": "bar",
         "x": [
          "2023-05-31T00:00:00",
          "2023-06-30T00:00:00",
          "2023-07-31T00:00:00",
          "2023-08-31T00:00:00",
          "2023-09-30T00:00:00",
          "2023-10-31T00:00:00",
          "2023-11-30T00:00:00",
          "2023-12-31T00:00:00",
          "2024-01-31T00:00:00",
          "2024-02-29T00:00:00",
          "2024-03-31T00:00:00",
          "2024-04-30T00:00:00"
         ],
         "xaxis": "x",
         "y": [
          -547.06,
          0,
          0,
          0,
          -293.62,
          -560.87,
          -263.86,
          -185.61,
          -49.370000000000005,
          955.22,
          -359.9300000000001,
          340.19
         ],
         "yaxis": "y"
        }
       ],
       "layout": {
        "barmode": "group",
        "legend": {
         "orientation": "h",
         "title": {
          "text": "Strategy"
         },
         "tracegroupgap": 0,
         "xanchor": "auto",
         "y": 1.1,
         "yanchor": "top"
        },
        "margin": {
         "t": 60
        },
        "template": {
         "data": {
          "bar": [
           {
            "error_x": {
             "color": "#2a3f5f"
            },
            "error_y": {
             "color": "#2a3f5f"
            },
            "marker": {
             "line": {
              "color": "#E5ECF6",
              "width": 0.5
             },
             "pattern": {
              "fillmode": "overlay",
              "size": 10,
              "solidity": 0.2
             }
            },
            "type": "bar"
           }
          ],
          "barpolar": [
           {
            "marker": {
             "line": {
              "color": "#E5ECF6",
              "width": 0.5
             },
             "pattern": {
              "fillmode": "overlay",
              "size": 10,
              "solidity": 0.2
             }
            },
            "type": "barpolar"
           }
          ],
          "carpet": [
           {
            "aaxis": {
             "endlinecolor": "#2a3f5f",
             "gridcolor": "white",
             "linecolor": "white",
             "minorgridcolor": "white",
             "startlinecolor": "#2a3f5f"
            },
            "baxis": {
             "endlinecolor": "#2a3f5f",
             "gridcolor": "white",
             "linecolor": "white",
             "minorgridcolor": "white",
             "startlinecolor": "#2a3f5f"
            },
            "type": "carpet"
           }
          ],
          "choropleth": [
           {
            "colorbar": {
             "outlinewidth": 0,
             "ticks": ""
            },
            "type": "choropleth"
           }
          ],
          "contour": [
           {
            "colorbar": {
             "outlinewidth": 0,
             "ticks": ""
            },
            "colorscale": [
             [
              0,
              "#0d0887"
             ],
             [
              0.1111111111111111,
              "#46039f"
             ],
             [
              0.2222222222222222,
              "#7201a8"
             ],
             [
              0.3333333333333333,
              "#9c179e"
             ],
             [
              0.4444444444444444,
              "#bd3786"
             ],
             [
              0.5555555555555556,
              "#d8576b"
             ],
             [
              0.6666666666666666,
              "#ed7953"
             ],
             [
              0.7777777777777778,
              "#fb9f3a"
             ],
             [
              0.8888888888888888,
              "#fdca26"
             ],
             [
              1,
              "#f0f921"
             ]
            ],
            "type": "contour"
           }
          ],
          "contourcarpet": [
           {
            "colorbar": {
             "outlinewidth": 0,
             "ticks": ""
            },
            "type": "contourcarpet"
           }
          ],
          "heatmap": [
           {
            "colorbar": {
             "outlinewidth": 0,
             "ticks": ""
            },
            "colorscale": [
             [
              0,
              "#0d0887"
             ],
             [
              0.1111111111111111,
              "#46039f"
             ],
             [
              0.2222222222222222,
              "#7201a8"
             ],
             [
              0.3333333333333333,
              "#9c179e"
             ],
             [
              0.4444444444444444,
              "#bd3786"
             ],
             [
              0.5555555555555556,
              "#d8576b"
             ],
             [
              0.6666666666666666,
              "#ed7953"
             ],
             [
              0.7777777777777778,
              "#fb9f3a"
             ],
             [
              0.8888888888888888,
              "#fdca26"
             ],
             [
              1,
              "#f0f921"
             ]
            ],
            "type": "heatmap"
           }
          ],
          "heatmapgl": [
           {
            "colorbar": {
             "outlinewidth": 0,
             "ticks": ""
            },
            "colorscale": [
             [
              0,
              "#0d0887"
             ],
             [
              0.1111111111111111,
              "#46039f"
             ],
             [
              0.2222222222222222,
              "#7201a8"
             ],
             [
              0.3333333333333333,
              "#9c179e"
             ],
             [
              0.4444444444444444,
              "#bd3786"
             ],
             [
              0.5555555555555556,
              "#d8576b"
             ],
             [
              0.6666666666666666,
              "#ed7953"
             ],
             [
              0.7777777777777778,
              "#fb9f3a"
             ],
             [
              0.8888888888888888,
              "#fdca26"
             ],
             [
              1,
              "#f0f921"
             ]
            ],
            "type": "heatmapgl"
           }
          ],
          "histogram": [
           {
            "marker": {
             "pattern": {
              "fillmode": "overlay",
              "size": 10,
              "solidity": 0.2
             }
            },
            "type": "histogram"
           }
          ],
          "histogram2d": [
           {
            "colorbar": {
             "outlinewidth": 0,
             "ticks": ""
            },
            "colorscale": [
             [
              0,
              "#0d0887"
             ],
             [
              0.1111111111111111,
              "#46039f"
             ],
             [
              0.2222222222222222,
              "#7201a8"
             ],
             [
              0.3333333333333333,
              "#9c179e"
             ],
             [
              0.4444444444444444,
              "#bd3786"
             ],
             [
              0.5555555555555556,
              "#d8576b"
             ],
             [
              0.6666666666666666,
              "#ed7953"
             ],
             [
              0.7777777777777778,
              "#fb9f3a"
             ],
             [
              0.8888888888888888,
              "#fdca26"
             ],
             [
              1,
              "#f0f921"
             ]
            ],
            "type": "histogram2d"
           }
          ],
          "histogram2dcontour": [
           {
            "colorbar": {
             "outlinewidth": 0,
             "ticks": ""
            },
            "colorscale": [
             [
              0,
              "#0d0887"
             ],
             [
              0.1111111111111111,
              "#46039f"
             ],
             [
              0.2222222222222222,
              "#7201a8"
             ],
             [
              0.3333333333333333,
              "#9c179e"
             ],
             [
              0.4444444444444444,
              "#bd3786"
             ],
             [
              0.5555555555555556,
              "#d8576b"
             ],
             [
              0.6666666666666666,
              "#ed7953"
             ],
             [
              0.7777777777777778,
              "#fb9f3a"
             ],
             [
              0.8888888888888888,
              "#fdca26"
             ],
             [
              1,
              "#f0f921"
             ]
            ],
            "type": "histogram2dcontour"
           }
          ],
          "mesh3d": [
           {
            "colorbar": {
             "outlinewidth": 0,
             "ticks": ""
            },
            "type": "mesh3d"
           }
          ],
          "parcoords": [
           {
            "line": {
             "colorbar": {
              "outlinewidth": 0,
              "ticks": ""
             }
            },
            "type": "parcoords"
           }
          ],
          "pie": [
           {
            "automargin": true,
            "type": "pie"
           }
          ],
          "scatter": [
           {
            "fillpattern": {
             "fillmode": "overlay",
             "size": 10,
             "solidity": 0.2
            },
            "type": "scatter"
           }
          ],
          "scatter3d": [
           {
            "line": {
             "colorbar": {
              "outlinewidth": 0,
              "ticks": ""
             }
            },
            "marker": {
             "colorbar": {
              "outlinewidth": 0,
              "ticks": ""
             }
            },
            "type": "scatter3d"
           }
          ],
          "scattercarpet": [
           {
            "marker": {
             "colorbar": {
              "outlinewidth": 0,
              "ticks": ""
             }
            },
            "type": "scattercarpet"
           }
          ],
          "scattergeo": [
           {
            "marker": {
             "colorbar": {
              "outlinewidth": 0,
              "ticks": ""
             }
            },
            "type": "scattergeo"
           }
          ],
          "scattergl": [
           {
            "marker": {
             "colorbar": {
              "outlinewidth": 0,
              "ticks": ""
             }
            },
            "type": "scattergl"
           }
          ],
          "scattermapbox": [
           {
            "marker": {
             "colorbar": {
              "outlinewidth": 0,
              "ticks": ""
             }
            },
            "type": "scattermapbox"
           }
          ],
          "scatterpolar": [
           {
            "marker": {
             "colorbar": {
              "outlinewidth": 0,
              "ticks": ""
             }
            },
            "type": "scatterpolar"
           }
          ],
          "scatterpolargl": [
           {
            "marker": {
             "colorbar": {
              "outlinewidth": 0,
              "ticks": ""
             }
            },
            "type": "scatterpolargl"
           }
          ],
          "scatterternary": [
           {
            "marker": {
             "colorbar": {
              "outlinewidth": 0,
              "ticks": ""
             }
            },
            "type": "scatterternary"
           }
          ],
          "surface": [
           {
            "colorbar": {
             "outlinewidth": 0,
             "ticks": ""
            },
            "colorscale": [
             [
              0,
              "#0d0887"
             ],
             [
              0.1111111111111111,
              "#46039f"
             ],
             [
              0.2222222222222222,
              "#7201a8"
             ],
             [
              0.3333333333333333,
              "#9c179e"
             ],
             [
              0.4444444444444444,
              "#bd3786"
             ],
             [
              0.5555555555555556,
              "#d8576b"
             ],
             [
              0.6666666666666666,
              "#ed7953"
             ],
             [
              0.7777777777777778,
              "#fb9f3a"
             ],
             [
              0.8888888888888888,
              "#fdca26"
             ],
             [
              1,
              "#f0f921"
             ]
            ],
            "type": "surface"
           }
          ],
          "table": [
           {
            "cells": {
             "fill": {
              "color": "#EBF0F8"
             },
             "line": {
              "color": "white"
             }
            },
            "header": {
             "fill": {
              "color": "#C8D4E3"
             },
             "line": {
              "color": "white"
             }
            },
            "type": "table"
           }
          ]
         },
         "layout": {
          "annotationdefaults": {
           "arrowcolor": "#2a3f5f",
           "arrowhead": 0,
           "arrowwidth": 1
          },
          "autotypenumbers": "strict",
          "coloraxis": {
           "colorbar": {
            "outlinewidth": 0,
            "ticks": ""
           }
          },
          "colorscale": {
           "diverging": [
            [
             0,
             "#8e0152"
            ],
            [
             0.1,
             "#c51b7d"
            ],
            [
             0.2,
             "#de77ae"
            ],
            [
             0.3,
             "#f1b6da"
            ],
            [
             0.4,
             "#fde0ef"
            ],
            [
             0.5,
             "#f7f7f7"
            ],
            [
             0.6,
             "#e6f5d0"
            ],
            [
             0.7,
             "#b8e186"
            ],
            [
             0.8,
             "#7fbc41"
            ],
            [
             0.9,
             "#4d9221"
            ],
            [
             1,
             "#276419"
            ]
           ],
           "sequential": [
            [
             0,
             "#0d0887"
            ],
            [
             0.1111111111111111,
             "#46039f"
            ],
            [
             0.2222222222222222,
             "#7201a8"
            ],
            [
             0.3333333333333333,
             "#9c179e"
            ],
            [
             0.4444444444444444,
             "#bd3786"
            ],
            [
             0.5555555555555556,
             "#d8576b"
            ],
            [
             0.6666666666666666,
             "#ed7953"
            ],
            [
             0.7777777777777778,
             "#fb9f3a"
            ],
            [
             0.8888888888888888,
             "#fdca26"
            ],
            [
             1,
             "#f0f921"
            ]
           ],
           "sequentialminus": [
            [
             0,
             "#0d0887"
            ],
            [
             0.1111111111111111,
             "#46039f"
            ],
            [
             0.2222222222222222,
             "#7201a8"
            ],
            [
             0.3333333333333333,
             "#9c179e"
            ],
            [
             0.4444444444444444,
             "#bd3786"
            ],
            [
             0.5555555555555556,
             "#d8576b"
            ],
            [
             0.6666666666666666,
             "#ed7953"
            ],
            [
             0.7777777777777778,
             "#fb9f3a"
            ],
            [
             0.8888888888888888,
             "#fdca26"
            ],
            [
             1,
             "#f0f921"
            ]
           ]
          },
          "colorway": [
           "#636efa",
           "#EF553B",
           "#00cc96",
           "#ab63fa",
           "#FFA15A",
           "#19d3f3",
           "#FF6692",
           "#B6E880",
           "#FF97FF",
           "#FECB52"
          ],
          "font": {
           "color": "#2a3f5f"
          },
          "geo": {
           "bgcolor": "white",
           "lakecolor": "white",
           "landcolor": "#E5ECF6",
           "showlakes": true,
           "showland": true,
           "subunitcolor": "white"
          },
          "hoverlabel": {
           "align": "left"
          },
          "hovermode": "closest",
          "mapbox": {
           "style": "light"
          },
          "paper_bgcolor": "white",
          "plot_bgcolor": "#E5ECF6",
          "polar": {
           "angularaxis": {
            "gridcolor": "white",
            "linecolor": "white",
            "ticks": ""
           },
           "bgcolor": "#E5ECF6",
           "radialaxis": {
            "gridcolor": "white",
            "linecolor": "white",
            "ticks": ""
           }
          },
          "scene": {
           "xaxis": {
            "backgroundcolor": "#E5ECF6",
            "gridcolor": "white",
            "gridwidth": 2,
            "linecolor": "white",
            "showbackground": true,
            "ticks": "",
            "zerolinecolor": "white"
           },
           "yaxis": {
            "backgroundcolor": "#E5ECF6",
            "gridcolor": "white",
            "gridwidth": 2,
            "linecolor": "white",
            "showbackground": true,
            "ticks": "",
            "zerolinecolor": "white"
           },
           "zaxis": {
            "backgroundcolor": "#E5ECF6",
            "gridcolor": "white",
            "gridwidth": 2,
            "linecolor": "white",
            "showbackground": true,
            "ticks": "",
            "zerolinecolor": "white"
           }
          },
          "shapedefaults": {
           "line": {
            "color": "#2a3f5f"
           }
          },
          "ternary": {
           "aaxis": {
            "gridcolor": "white",
            "linecolor": "white",
            "ticks": ""
           },
           "baxis": {
            "gridcolor": "white",
            "linecolor": "white",
            "ticks": ""
           },
           "bgcolor": "#E5ECF6",
           "caxis": {
            "gridcolor": "white",
            "linecolor": "white",
            "ticks": ""
           }
          },
          "title": {
           "x": 0.05
          },
          "xaxis": {
           "automargin": true,
           "gridcolor": "white",
           "linecolor": "white",
           "ticks": "",
           "title": {
            "standoff": 15
           },
           "zerolinecolor": "white",
           "zerolinewidth": 2
          },
          "yaxis": {
           "automargin": true,
           "gridcolor": "white",
           "linecolor": "white",
           "ticks": "",
           "title": {
            "standoff": 15
           },
           "zerolinecolor": "white",
           "zerolinewidth": 2
          }
         }
        },
        "xaxis": {
         "anchor": "y",
         "domain": [
          0,
          1
         ],
         "title": {
          "text": "Date"
         }
        },
        "yaxis": {
         "anchor": "x",
         "domain": [
          0,
          1
         ],
         "title": {
          "text": "Monthly PnL"
         }
        }
       }
      }
     },
     "metadata": {},
     "output_type": "display_data"
    }
   ],
   "source": [
    "fig = px.bar(monthly_df, x=monthly_df.index, y=\"net_pnl\", \n",
    "             color=\"strategy\", barmode = 'group')\n",
    "\n",
    "fig.update_layout(\n",
    "    xaxis_title=\"Date\",\n",
    "    yaxis_title=\"Monthly PnL\",\n",
    "    legend_orientation=\"h\",\n",
    "    legend_yanchor=\"top\",\n",
    "    legend_xanchor=\"auto\",\n",
    "    legend_y=1.1,\n",
    "    legend_title_text='Strategy',\n",
    ")\n",
    "fig.show()"
   ]
  },
  {
   "cell_type": "code",
   "execution_count": 6,
   "metadata": {},
   "outputs": [],
   "source": [
    "df[\"result\"]=np.where(df[\"net_pnl\"]>0,1,0)\n",
    "df[\"winning_amount_pct\"] = df[\"net_pnl\"]*100/df[\"buy_value\"]"
   ]
  },
  {
   "cell_type": "code",
   "execution_count": 42,
   "metadata": {},
   "outputs": [
    {
     "data": {
      "text/html": [
       "<div>\n",
       "<style scoped>\n",
       "    .dataframe tbody tr th:only-of-type {\n",
       "        vertical-align: middle;\n",
       "    }\n",
       "\n",
       "    .dataframe tbody tr th {\n",
       "        vertical-align: top;\n",
       "    }\n",
       "\n",
       "    .dataframe thead tr th {\n",
       "        text-align: left;\n",
       "    }\n",
       "\n",
       "    .dataframe thead tr:last-of-type th {\n",
       "        text-align: right;\n",
       "    }\n",
       "</style>\n",
       "<table border=\"1\" class=\"dataframe\">\n",
       "  <thead>\n",
       "    <tr>\n",
       "      <th></th>\n",
       "      <th colspan=\"2\" halign=\"left\">result</th>\n",
       "      <th colspan=\"3\" halign=\"left\">winning_amount_pct</th>\n",
       "    </tr>\n",
       "    <tr>\n",
       "      <th></th>\n",
       "      <th>sum</th>\n",
       "      <th>count</th>\n",
       "      <th>mean</th>\n",
       "      <th>max</th>\n",
       "      <th>min</th>\n",
       "    </tr>\n",
       "    <tr>\n",
       "      <th>strategy</th>\n",
       "      <th></th>\n",
       "      <th></th>\n",
       "      <th></th>\n",
       "      <th></th>\n",
       "      <th></th>\n",
       "    </tr>\n",
       "  </thead>\n",
       "  <tbody>\n",
       "    <tr>\n",
       "      <th>INTRADAY_GAP_UP</th>\n",
       "      <td>183</td>\n",
       "      <td>392</td>\n",
       "      <td>0.064228</td>\n",
       "      <td>4.467906</td>\n",
       "      <td>-2.280420</td>\n",
       "    </tr>\n",
       "    <tr>\n",
       "      <th>MEAN_REVERSION</th>\n",
       "      <td>815</td>\n",
       "      <td>1754</td>\n",
       "      <td>-0.046950</td>\n",
       "      <td>14.835377</td>\n",
       "      <td>-3.156439</td>\n",
       "    </tr>\n",
       "    <tr>\n",
       "      <th>SWING_STOCHASTIC_RSI</th>\n",
       "      <td>148</td>\n",
       "      <td>335</td>\n",
       "      <td>-0.067997</td>\n",
       "      <td>5.158182</td>\n",
       "      <td>-3.231189</td>\n",
       "    </tr>\n",
       "  </tbody>\n",
       "</table>\n",
       "</div>"
      ],
      "text/plain": [
       "                     result       winning_amount_pct                     \n",
       "                        sum count               mean        max       min\n",
       "strategy                                                                 \n",
       "INTRADAY_GAP_UP         183   392           0.064228   4.467906 -2.280420\n",
       "MEAN_REVERSION          815  1754          -0.046950  14.835377 -3.156439\n",
       "SWING_STOCHASTIC_RSI    148   335          -0.067997   5.158182 -3.231189"
      ]
     },
     "execution_count": 42,
     "metadata": {},
     "output_type": "execute_result"
    }
   ],
   "source": [
    "strategy_df=df.groupby([\"strategy\"]).agg({\"result\":[\"sum\", \"count\"], \"winning_amount_pct\":[\"mean\", \"max\",\"min\"]})\n",
    "strategy_df"
   ]
  },
  {
   "cell_type": "code",
   "execution_count": 43,
   "metadata": {},
   "outputs": [
    {
     "data": {
      "text/html": [
       "<div>\n",
       "<style scoped>\n",
       "    .dataframe tbody tr th:only-of-type {\n",
       "        vertical-align: middle;\n",
       "    }\n",
       "\n",
       "    .dataframe tbody tr th {\n",
       "        vertical-align: top;\n",
       "    }\n",
       "\n",
       "    .dataframe thead th {\n",
       "        text-align: right;\n",
       "    }\n",
       "</style>\n",
       "<table border=\"1\" class=\"dataframe\">\n",
       "  <thead>\n",
       "    <tr style=\"text-align: right;\">\n",
       "      <th></th>\n",
       "      <th>win</th>\n",
       "      <th>total</th>\n",
       "      <th>mean_pct</th>\n",
       "      <th>max_pct</th>\n",
       "      <th>min_pct</th>\n",
       "      <th>win_rate</th>\n",
       "    </tr>\n",
       "    <tr>\n",
       "      <th>strategy</th>\n",
       "      <th></th>\n",
       "      <th></th>\n",
       "      <th></th>\n",
       "      <th></th>\n",
       "      <th></th>\n",
       "      <th></th>\n",
       "    </tr>\n",
       "  </thead>\n",
       "  <tbody>\n",
       "    <tr>\n",
       "      <th>INTRADAY_GAP_UP</th>\n",
       "      <td>183</td>\n",
       "      <td>392</td>\n",
       "      <td>0.064228</td>\n",
       "      <td>4.467906</td>\n",
       "      <td>-2.280420</td>\n",
       "      <td>46.683673</td>\n",
       "    </tr>\n",
       "    <tr>\n",
       "      <th>MEAN_REVERSION</th>\n",
       "      <td>815</td>\n",
       "      <td>1754</td>\n",
       "      <td>-0.046950</td>\n",
       "      <td>14.835377</td>\n",
       "      <td>-3.156439</td>\n",
       "      <td>46.465222</td>\n",
       "    </tr>\n",
       "    <tr>\n",
       "      <th>SWING_STOCHASTIC_RSI</th>\n",
       "      <td>148</td>\n",
       "      <td>335</td>\n",
       "      <td>-0.067997</td>\n",
       "      <td>5.158182</td>\n",
       "      <td>-3.231189</td>\n",
       "      <td>44.179104</td>\n",
       "    </tr>\n",
       "  </tbody>\n",
       "</table>\n",
       "</div>"
      ],
      "text/plain": [
       "                      win  total  mean_pct    max_pct   min_pct   win_rate\n",
       "strategy                                                                  \n",
       "INTRADAY_GAP_UP       183    392  0.064228   4.467906 -2.280420  46.683673\n",
       "MEAN_REVERSION        815   1754 -0.046950  14.835377 -3.156439  46.465222\n",
       "SWING_STOCHASTIC_RSI  148    335 -0.067997   5.158182 -3.231189  44.179104"
      ]
     },
     "execution_count": 43,
     "metadata": {},
     "output_type": "execute_result"
    }
   ],
   "source": [
    "strategy_df.columns= [\"win\",\"total\", \"mean_pct\",\"max_pct\",\"min_pct\"]\n",
    "strategy_df[\"win_rate\"]=(strategy_df[\"win\"]*100)/strategy_df[\"total\"]\n",
    "strategy_df"
   ]
  },
  {
   "cell_type": "code",
   "execution_count": 45,
   "metadata": {},
   "outputs": [
    {
     "data": {
      "text/plain": [
       "1754.0"
      ]
     },
     "execution_count": 45,
     "metadata": {},
     "output_type": "execute_result"
    }
   ],
   "source": [
    "strategy_df.loc[\"MEAN_REVERSION\"][\"total\"]"
   ]
  },
  {
   "cell_type": "code",
   "execution_count": 7,
   "metadata": {},
   "outputs": [
    {
     "data": {
      "text/html": [
       "<div>\n",
       "<style scoped>\n",
       "    .dataframe tbody tr th:only-of-type {\n",
       "        vertical-align: middle;\n",
       "    }\n",
       "\n",
       "    .dataframe tbody tr th {\n",
       "        vertical-align: top;\n",
       "    }\n",
       "\n",
       "    .dataframe thead th {\n",
       "        text-align: right;\n",
       "    }\n",
       "</style>\n",
       "<table border=\"1\" class=\"dataframe\">\n",
       "  <thead>\n",
       "    <tr style=\"text-align: right;\">\n",
       "      <th></th>\n",
       "      <th>strategy</th>\n",
       "      <th>sell_time</th>\n",
       "      <th>symbol</th>\n",
       "      <th>tax</th>\n",
       "      <th>sell_value</th>\n",
       "      <th>pnl</th>\n",
       "      <th>brokerage</th>\n",
       "      <th>traded_qty</th>\n",
       "      <th>buy_value</th>\n",
       "      <th>buy_time</th>\n",
       "      <th>net_pnl</th>\n",
       "      <th>date</th>\n",
       "      <th>result</th>\n",
       "      <th>winning_amount_pct</th>\n",
       "    </tr>\n",
       "  </thead>\n",
       "  <tbody>\n",
       "    <tr>\n",
       "      <th>0</th>\n",
       "      <td>MEAN_REVERSION</td>\n",
       "      <td>10:04:00</td>\n",
       "      <td>APOLLOHOSP</td>\n",
       "      <td>2.20</td>\n",
       "      <td>4641.90</td>\n",
       "      <td>-91.35</td>\n",
       "      <td>2.84</td>\n",
       "      <td>1</td>\n",
       "      <td>4733.25</td>\n",
       "      <td>09:15:00</td>\n",
       "      <td>-96.39</td>\n",
       "      <td>2022-02-23</td>\n",
       "      <td>0</td>\n",
       "      <td>-2.036444</td>\n",
       "    </tr>\n",
       "    <tr>\n",
       "      <th>1</th>\n",
       "      <td>MEAN_REVERSION</td>\n",
       "      <td>03:14:00</td>\n",
       "      <td>NATIONALUM</td>\n",
       "      <td>2.31</td>\n",
       "      <td>4909.80</td>\n",
       "      <td>35.70</td>\n",
       "      <td>2.92</td>\n",
       "      <td>42</td>\n",
       "      <td>4874.10</td>\n",
       "      <td>09:15:00</td>\n",
       "      <td>30.47</td>\n",
       "      <td>2022-02-23</td>\n",
       "      <td>1</td>\n",
       "      <td>0.625141</td>\n",
       "    </tr>\n",
       "    <tr>\n",
       "      <th>2</th>\n",
       "      <td>MEAN_REVERSION</td>\n",
       "      <td>09:52:00</td>\n",
       "      <td>METROPOLIS</td>\n",
       "      <td>1.96</td>\n",
       "      <td>4127.80</td>\n",
       "      <td>-82.20</td>\n",
       "      <td>2.53</td>\n",
       "      <td>2</td>\n",
       "      <td>4210.00</td>\n",
       "      <td>09:15:00</td>\n",
       "      <td>-86.69</td>\n",
       "      <td>2022-02-23</td>\n",
       "      <td>0</td>\n",
       "      <td>-2.059145</td>\n",
       "    </tr>\n",
       "    <tr>\n",
       "      <th>3</th>\n",
       "      <td>MEAN_REVERSION</td>\n",
       "      <td>03:14:00</td>\n",
       "      <td>NAM-INDIA</td>\n",
       "      <td>2.24</td>\n",
       "      <td>4782.00</td>\n",
       "      <td>104.25</td>\n",
       "      <td>2.81</td>\n",
       "      <td>15</td>\n",
       "      <td>4677.75</td>\n",
       "      <td>09:22:00</td>\n",
       "      <td>99.21</td>\n",
       "      <td>2022-02-23</td>\n",
       "      <td>1</td>\n",
       "      <td>2.120891</td>\n",
       "    </tr>\n",
       "    <tr>\n",
       "      <th>4</th>\n",
       "      <td>MEAN_REVERSION</td>\n",
       "      <td>03:06:00</td>\n",
       "      <td>CROMPTON</td>\n",
       "      <td>2.32</td>\n",
       "      <td>4951.20</td>\n",
       "      <td>89.40</td>\n",
       "      <td>2.92</td>\n",
       "      <td>12</td>\n",
       "      <td>4861.80</td>\n",
       "      <td>09:22:00</td>\n",
       "      <td>84.16</td>\n",
       "      <td>2022-02-24</td>\n",
       "      <td>1</td>\n",
       "      <td>1.731046</td>\n",
       "    </tr>\n",
       "    <tr>\n",
       "      <th>...</th>\n",
       "      <td>...</td>\n",
       "      <td>...</td>\n",
       "      <td>...</td>\n",
       "      <td>...</td>\n",
       "      <td>...</td>\n",
       "      <td>...</td>\n",
       "      <td>...</td>\n",
       "      <td>...</td>\n",
       "      <td>...</td>\n",
       "      <td>...</td>\n",
       "      <td>...</td>\n",
       "      <td>...</td>\n",
       "      <td>...</td>\n",
       "      <td>...</td>\n",
       "    </tr>\n",
       "    <tr>\n",
       "      <th>2476</th>\n",
       "      <td>MEAN_REVERSION</td>\n",
       "      <td>15:10:24</td>\n",
       "      <td>MCDOWELL-N</td>\n",
       "      <td>1.72</td>\n",
       "      <td>4727.00</td>\n",
       "      <td>-63.60</td>\n",
       "      <td>0.00</td>\n",
       "      <td>4</td>\n",
       "      <td>4790.60</td>\n",
       "      <td>09:15:46</td>\n",
       "      <td>-65.32</td>\n",
       "      <td>2024-04-12</td>\n",
       "      <td>0</td>\n",
       "      <td>-1.363504</td>\n",
       "    </tr>\n",
       "    <tr>\n",
       "      <th>2477</th>\n",
       "      <td>MEAN_REVERSION</td>\n",
       "      <td>15:10:24</td>\n",
       "      <td>INDIGO</td>\n",
       "      <td>1.35</td>\n",
       "      <td>3696.50</td>\n",
       "      <td>-99.30</td>\n",
       "      <td>0.00</td>\n",
       "      <td>1</td>\n",
       "      <td>3795.80</td>\n",
       "      <td>09:15:46</td>\n",
       "      <td>-100.65</td>\n",
       "      <td>2024-04-12</td>\n",
       "      <td>0</td>\n",
       "      <td>-2.651615</td>\n",
       "    </tr>\n",
       "    <tr>\n",
       "      <th>2478</th>\n",
       "      <td>MEAN_REVERSION</td>\n",
       "      <td>15:10:24</td>\n",
       "      <td>IDFC</td>\n",
       "      <td>1.75</td>\n",
       "      <td>4814.55</td>\n",
       "      <td>-21.45</td>\n",
       "      <td>0.00</td>\n",
       "      <td>39</td>\n",
       "      <td>4836.00</td>\n",
       "      <td>09:15:46</td>\n",
       "      <td>-23.20</td>\n",
       "      <td>2024-04-12</td>\n",
       "      <td>0</td>\n",
       "      <td>-0.479735</td>\n",
       "    </tr>\n",
       "    <tr>\n",
       "      <th>2479</th>\n",
       "      <td>MEAN_REVERSION</td>\n",
       "      <td>15:10:24</td>\n",
       "      <td>VEDL</td>\n",
       "      <td>1.76</td>\n",
       "      <td>4864.60</td>\n",
       "      <td>135.20</td>\n",
       "      <td>0.00</td>\n",
       "      <td>13</td>\n",
       "      <td>4729.40</td>\n",
       "      <td>09:15:46</td>\n",
       "      <td>133.44</td>\n",
       "      <td>2024-04-12</td>\n",
       "      <td>1</td>\n",
       "      <td>2.821500</td>\n",
       "    </tr>\n",
       "    <tr>\n",
       "      <th>2480</th>\n",
       "      <td>MEAN_REVERSION</td>\n",
       "      <td>15:10:24</td>\n",
       "      <td>MCX</td>\n",
       "      <td>1.39</td>\n",
       "      <td>3820.80</td>\n",
       "      <td>-76.75</td>\n",
       "      <td>0.00</td>\n",
       "      <td>1</td>\n",
       "      <td>3897.55</td>\n",
       "      <td>09:15:46</td>\n",
       "      <td>-78.14</td>\n",
       "      <td>2024-04-12</td>\n",
       "      <td>0</td>\n",
       "      <td>-2.004849</td>\n",
       "    </tr>\n",
       "  </tbody>\n",
       "</table>\n",
       "<p>2481 rows × 14 columns</p>\n",
       "</div>"
      ],
      "text/plain": [
       "            strategy sell_time      symbol   tax  sell_value     pnl  \\\n",
       "0     MEAN_REVERSION  10:04:00  APOLLOHOSP  2.20     4641.90  -91.35   \n",
       "1     MEAN_REVERSION  03:14:00  NATIONALUM  2.31     4909.80   35.70   \n",
       "2     MEAN_REVERSION  09:52:00  METROPOLIS  1.96     4127.80  -82.20   \n",
       "3     MEAN_REVERSION  03:14:00   NAM-INDIA  2.24     4782.00  104.25   \n",
       "4     MEAN_REVERSION  03:06:00    CROMPTON  2.32     4951.20   89.40   \n",
       "...              ...       ...         ...   ...         ...     ...   \n",
       "2476  MEAN_REVERSION  15:10:24  MCDOWELL-N  1.72     4727.00  -63.60   \n",
       "2477  MEAN_REVERSION  15:10:24      INDIGO  1.35     3696.50  -99.30   \n",
       "2478  MEAN_REVERSION  15:10:24        IDFC  1.75     4814.55  -21.45   \n",
       "2479  MEAN_REVERSION  15:10:24        VEDL  1.76     4864.60  135.20   \n",
       "2480  MEAN_REVERSION  15:10:24         MCX  1.39     3820.80  -76.75   \n",
       "\n",
       "      brokerage  traded_qty  buy_value  buy_time  net_pnl        date  result  \\\n",
       "0          2.84           1    4733.25  09:15:00   -96.39  2022-02-23       0   \n",
       "1          2.92          42    4874.10  09:15:00    30.47  2022-02-23       1   \n",
       "2          2.53           2    4210.00  09:15:00   -86.69  2022-02-23       0   \n",
       "3          2.81          15    4677.75  09:22:00    99.21  2022-02-23       1   \n",
       "4          2.92          12    4861.80  09:22:00    84.16  2022-02-24       1   \n",
       "...         ...         ...        ...       ...      ...         ...     ...   \n",
       "2476       0.00           4    4790.60  09:15:46   -65.32  2024-04-12       0   \n",
       "2477       0.00           1    3795.80  09:15:46  -100.65  2024-04-12       0   \n",
       "2478       0.00          39    4836.00  09:15:46   -23.20  2024-04-12       0   \n",
       "2479       0.00          13    4729.40  09:15:46   133.44  2024-04-12       1   \n",
       "2480       0.00           1    3897.55  09:15:46   -78.14  2024-04-12       0   \n",
       "\n",
       "      winning_amount_pct  \n",
       "0              -2.036444  \n",
       "1               0.625141  \n",
       "2              -2.059145  \n",
       "3               2.120891  \n",
       "4               1.731046  \n",
       "...                  ...  \n",
       "2476           -1.363504  \n",
       "2477           -2.651615  \n",
       "2478           -0.479735  \n",
       "2479            2.821500  \n",
       "2480           -2.004849  \n",
       "\n",
       "[2481 rows x 14 columns]"
      ]
     },
     "execution_count": 7,
     "metadata": {},
     "output_type": "execute_result"
    }
   ],
   "source": [
    "df"
   ]
  },
  {
   "cell_type": "code",
   "execution_count": 19,
   "metadata": {},
   "outputs": [
    {
     "data": {
      "text/plain": [
       "┌────────────┬──────────────────────┬───────────┬───────┐\n",
       "│   symbol   │       strategy       │ total_pnl │  rnk  │\n",
       "│  varchar   │       varchar        │  double   │ int64 │\n",
       "├────────────┼──────────────────────┼───────────┼───────┤\n",
       "│ INDIGO     │ INTRADAY_GAP_UP      │    387.21 │     1 │\n",
       "│ TATAMTRDVR │ INTRADAY_GAP_UP      │    382.34 │     2 │\n",
       "│ ADANIGREEN │ INTRADAY_GAP_UP      │    364.52 │     3 │\n",
       "│ GODREJCP   │ INTRADAY_GAP_UP      │    362.62 │     4 │\n",
       "│ ZOMATO     │ INTRADAY_GAP_UP      │    300.59 │     5 │\n",
       "│ FEDERALBNK │ MEAN_REVERSION       │    986.35 │     1 │\n",
       "│ INDIACEM   │ MEAN_REVERSION       │    833.42 │     2 │\n",
       "│ POLYCAB    │ MEAN_REVERSION       │    801.32 │     3 │\n",
       "│ BHEL       │ MEAN_REVERSION       │    797.39 │     4 │\n",
       "│ PNB        │ MEAN_REVERSION       │    584.84 │     5 │\n",
       "│ ACC        │ SWING_STOCHASTIC_RSI │    464.19 │     1 │\n",
       "│ TATASTEEL  │ SWING_STOCHASTIC_RSI │    407.67 │     2 │\n",
       "│ MPHASIS    │ SWING_STOCHASTIC_RSI │    300.24 │     3 │\n",
       "│ INDIGO     │ SWING_STOCHASTIC_RSI │    267.41 │     4 │\n",
       "│ HINDPETRO  │ SWING_STOCHASTIC_RSI │    207.58 │     5 │\n",
       "├────────────┴──────────────────────┴───────────┴───────┤\n",
       "│ 15 rows                                     4 columns │\n",
       "└───────────────────────────────────────────────────────┘"
      ]
     },
     "execution_count": 19,
     "metadata": {},
     "output_type": "execute_result"
    }
   ],
   "source": [
    "db.sql(\"\"\"\n",
    "       with cte as (\n",
    "       select symbol, strategy, round(sum(net_pnl),2) as total_pnl, row_number() over(partition by strategy order by total_pnl desc) rnk from df group by strategy, symbol order by strategy, rnk)\n",
    "       select * from cte where rnk<=5\n",
    "       \"\"\")"
   ]
  },
  {
   "cell_type": "code",
   "execution_count": null,
   "metadata": {},
   "outputs": [],
   "source": []
  },
  {
   "cell_type": "code",
   "execution_count": null,
   "metadata": {},
   "outputs": [],
   "source": []
  }
 ],
 "metadata": {
  "kernelspec": {
   "display_name": "base",
   "language": "python",
   "name": "python3"
  },
  "language_info": {
   "codemirror_mode": {
    "name": "ipython",
    "version": 3
   },
   "file_extension": ".py",
   "mimetype": "text/x-python",
   "name": "python",
   "nbconvert_exporter": "python",
   "pygments_lexer": "ipython3",
   "version": "3.11.5"
  }
 },
 "nbformat": 4,
 "nbformat_minor": 2
}
